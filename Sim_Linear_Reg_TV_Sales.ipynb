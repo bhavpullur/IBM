{
  "metadata": {
    "kernelspec": {
      "language": "python",
      "display_name": "Python 3",
      "name": "python3"
    },
    "language_info": {
      "name": "python",
      "version": "3.10.13",
      "mimetype": "text/x-python",
      "codemirror_mode": {
        "name": "ipython",
        "version": 3
      },
      "pygments_lexer": "ipython3",
      "nbconvert_exporter": "python",
      "file_extension": ".py"
    },
    "kaggle": {
      "accelerator": "none",
      "dataSources": [
        {
          "sourceId": 8634968,
          "sourceType": "datasetVersion",
          "datasetId": 5170765
        }
      ],
      "dockerImageVersionId": 30732,
      "isInternetEnabled": true,
      "language": "python",
      "sourceType": "notebook",
      "isGpuEnabled": false
    },
    "colab": {
      "name": "Sim. Linear Reg TV-Sales",
      "provenance": []
    }
  },
  "nbformat_minor": 0,
  "nbformat": 4,
  "cells": [
    {
      "cell_type": "markdown",
      "source": [
        "# Simple Linear Regression"
      ],
      "metadata": {
        "id": "tMyqi7NzheLd"
      }
    },
    {
      "cell_type": "markdown",
      "source": [
        "In the Advertising.csv dataset:\n",
        "\n",
        "We will investigate the relationship between TV and Sales.\n",
        "\n",
        "Our goal is to model the relationship between TV budget and Sales using Linear Regression.\n",
        "\n",
        "To do this, we will build a linear model."
      ],
      "metadata": {
        "id": "jbv8XllxheLe"
      }
    },
    {
      "cell_type": "markdown",
      "source": [
        "## Steps:\n",
        "\n",
        "1. [First, let's examine the raw data](#1)\n",
        "1. [Let's import the data](#2)\n",
        "1. [Let's examine the data (head, describe, info)](#3)\n",
        "1. [Visualize the data](#4)\n",
        "1. [Create the model (formulas)](#5)\n",
        "1. [Preparation](#6)\n",
        "1. [Train-Test Split](#7)\n",
        "1. [Run Linear Regression Model (Fit)](#8)\n",
        "1. [Calculating Coefficients (intercept_, coef_)](#9)\n",
        "1. [Make a Predict](#10)\n",
        "1. [Plot Actual Data and Prediction Data](#11)\n",
        "1. [ Draw Errors ($y - \\hat y$)](#12)\n",
        "1. [Check Model Accuracy (RMSE, and $R^2$)](#13)\n",
        "1. [Comments](#14)"
      ],
      "metadata": {
        "id": "q4ruXr_pheLf"
      }
    },
    {
      "cell_type": "markdown",
      "source": [
        "<a id =1 ></a>\n",
        "## 1- First, let's examine the raw data"
      ],
      "metadata": {
        "id": "3jOjPyF_heLf"
      }
    },
    {
      "cell_type": "markdown",
      "source": [
        "### Manual data control:\n",
        "* Which are the columns\n",
        "* What is the Feature (X) and Label column?\n",
        "* How many records are there in total?\n",
        "* Is there any missing data?\n",
        " * NA (Not Available)\n",
        " * NaN: Not a Number"
      ],
      "metadata": {
        "id": "eI5o0VuMheLg"
      }
    },
    {
      "cell_type": "markdown",
      "source": [
        "<a id =2></a>\n",
        "## 2- Let's import the data"
      ],
      "metadata": {
        "id": "YVGi_EdeheLg"
      }
    },
    {
      "cell_type": "code",
      "source": [
        "import numpy as np # linear algebra\n",
        "import pandas as pd # data processing, CSV file I/O (e.g. pd.read_csv)\n",
        "import seaborn as sns\n",
        "import matplotlib.pyplot as plt"
      ],
      "metadata": {
        "_uuid": "8f2839f25d086af736a60e9eeb907d3b93b6e0e5",
        "_cell_guid": "b1076dfc-b9ad-4769-8c92-a6c4dae69d19",
        "execution": {
          "iopub.status.busy": "2024-06-08T09:30:53.703333Z",
          "iopub.execute_input": "2024-06-08T09:30:53.703752Z",
          "iopub.status.idle": "2024-06-08T09:30:54.846615Z",
          "shell.execute_reply.started": "2024-06-08T09:30:53.703718Z",
          "shell.execute_reply": "2024-06-08T09:30:54.845042Z"
        },
        "trusted": true,
        "id": "aXor0oO3heLg"
      },
      "execution_count": 1,
      "outputs": []
    },
    {
      "cell_type": "code",
      "source": [
        "\n",
        "df = pd.read_csv('/content/Advertising-checkpoint.csv', index_col=0)"
      ],
      "metadata": {
        "execution": {
          "iopub.status.busy": "2024-06-08T09:31:10.870159Z",
          "iopub.execute_input": "2024-06-08T09:31:10.87055Z",
          "iopub.status.idle": "2024-06-08T09:31:10.891392Z",
          "shell.execute_reply.started": "2024-06-08T09:31:10.870518Z",
          "shell.execute_reply": "2024-06-08T09:31:10.889971Z"
        },
        "trusted": true,
        "id": "Lu0uYEvzheLh"
      },
      "execution_count": 2,
      "outputs": []
    },
    {
      "cell_type": "markdown",
      "source": [
        "<a id = 3></a>\n",
        "## 3- Let's examine the data (head, describe, info)"
      ],
      "metadata": {
        "id": "kt-DLHzyheLi"
      }
    },
    {
      "cell_type": "code",
      "source": [
        "\n",
        "df.head(10)"
      ],
      "metadata": {
        "execution": {
          "iopub.status.busy": "2024-06-08T09:32:31.034012Z",
          "iopub.execute_input": "2024-06-08T09:32:31.034455Z",
          "iopub.status.idle": "2024-06-08T09:32:31.061587Z",
          "shell.execute_reply.started": "2024-06-08T09:32:31.034415Z",
          "shell.execute_reply": "2024-06-08T09:32:31.060204Z"
        },
        "trusted": true,
        "id": "GiUVDBLWheLi",
        "outputId": "9440c36f-1e51-4414-8368-c7668150cd63",
        "colab": {
          "base_uri": "https://localhost:8080/",
          "height": 363
        }
      },
      "execution_count": 3,
      "outputs": [
        {
          "output_type": "execute_result",
          "data": {
            "text/plain": [
              "       TV  radio  newspaper  sales\n",
              "1   230.1   37.8       69.2   22.1\n",
              "2    44.5   39.3       45.1   10.4\n",
              "3    17.2   45.9       69.3    9.3\n",
              "4   151.5   41.3       58.5   18.5\n",
              "5   180.8   10.8       58.4   12.9\n",
              "6     8.7   48.9       75.0    7.2\n",
              "7    57.5   32.8       23.5   11.8\n",
              "8   120.2   19.6       11.6   13.2\n",
              "9     8.6    2.1        1.0    4.8\n",
              "10  199.8    2.6       21.2   10.6"
            ],
            "text/html": [
              "\n",
              "  <div id=\"df-a3be1f11-bc45-4556-ab89-0ba170a22530\" class=\"colab-df-container\">\n",
              "    <div>\n",
              "<style scoped>\n",
              "    .dataframe tbody tr th:only-of-type {\n",
              "        vertical-align: middle;\n",
              "    }\n",
              "\n",
              "    .dataframe tbody tr th {\n",
              "        vertical-align: top;\n",
              "    }\n",
              "\n",
              "    .dataframe thead th {\n",
              "        text-align: right;\n",
              "    }\n",
              "</style>\n",
              "<table border=\"1\" class=\"dataframe\">\n",
              "  <thead>\n",
              "    <tr style=\"text-align: right;\">\n",
              "      <th></th>\n",
              "      <th>TV</th>\n",
              "      <th>radio</th>\n",
              "      <th>newspaper</th>\n",
              "      <th>sales</th>\n",
              "    </tr>\n",
              "  </thead>\n",
              "  <tbody>\n",
              "    <tr>\n",
              "      <th>1</th>\n",
              "      <td>230.1</td>\n",
              "      <td>37.8</td>\n",
              "      <td>69.2</td>\n",
              "      <td>22.1</td>\n",
              "    </tr>\n",
              "    <tr>\n",
              "      <th>2</th>\n",
              "      <td>44.5</td>\n",
              "      <td>39.3</td>\n",
              "      <td>45.1</td>\n",
              "      <td>10.4</td>\n",
              "    </tr>\n",
              "    <tr>\n",
              "      <th>3</th>\n",
              "      <td>17.2</td>\n",
              "      <td>45.9</td>\n",
              "      <td>69.3</td>\n",
              "      <td>9.3</td>\n",
              "    </tr>\n",
              "    <tr>\n",
              "      <th>4</th>\n",
              "      <td>151.5</td>\n",
              "      <td>41.3</td>\n",
              "      <td>58.5</td>\n",
              "      <td>18.5</td>\n",
              "    </tr>\n",
              "    <tr>\n",
              "      <th>5</th>\n",
              "      <td>180.8</td>\n",
              "      <td>10.8</td>\n",
              "      <td>58.4</td>\n",
              "      <td>12.9</td>\n",
              "    </tr>\n",
              "    <tr>\n",
              "      <th>6</th>\n",
              "      <td>8.7</td>\n",
              "      <td>48.9</td>\n",
              "      <td>75.0</td>\n",
              "      <td>7.2</td>\n",
              "    </tr>\n",
              "    <tr>\n",
              "      <th>7</th>\n",
              "      <td>57.5</td>\n",
              "      <td>32.8</td>\n",
              "      <td>23.5</td>\n",
              "      <td>11.8</td>\n",
              "    </tr>\n",
              "    <tr>\n",
              "      <th>8</th>\n",
              "      <td>120.2</td>\n",
              "      <td>19.6</td>\n",
              "      <td>11.6</td>\n",
              "      <td>13.2</td>\n",
              "    </tr>\n",
              "    <tr>\n",
              "      <th>9</th>\n",
              "      <td>8.6</td>\n",
              "      <td>2.1</td>\n",
              "      <td>1.0</td>\n",
              "      <td>4.8</td>\n",
              "    </tr>\n",
              "    <tr>\n",
              "      <th>10</th>\n",
              "      <td>199.8</td>\n",
              "      <td>2.6</td>\n",
              "      <td>21.2</td>\n",
              "      <td>10.6</td>\n",
              "    </tr>\n",
              "  </tbody>\n",
              "</table>\n",
              "</div>\n",
              "    <div class=\"colab-df-buttons\">\n",
              "\n",
              "  <div class=\"colab-df-container\">\n",
              "    <button class=\"colab-df-convert\" onclick=\"convertToInteractive('df-a3be1f11-bc45-4556-ab89-0ba170a22530')\"\n",
              "            title=\"Convert this dataframe to an interactive table.\"\n",
              "            style=\"display:none;\">\n",
              "\n",
              "  <svg xmlns=\"http://www.w3.org/2000/svg\" height=\"24px\" viewBox=\"0 -960 960 960\">\n",
              "    <path d=\"M120-120v-720h720v720H120Zm60-500h600v-160H180v160Zm220 220h160v-160H400v160Zm0 220h160v-160H400v160ZM180-400h160v-160H180v160Zm440 0h160v-160H620v160ZM180-180h160v-160H180v160Zm440 0h160v-160H620v160Z\"/>\n",
              "  </svg>\n",
              "    </button>\n",
              "\n",
              "  <style>\n",
              "    .colab-df-container {\n",
              "      display:flex;\n",
              "      gap: 12px;\n",
              "    }\n",
              "\n",
              "    .colab-df-convert {\n",
              "      background-color: #E8F0FE;\n",
              "      border: none;\n",
              "      border-radius: 50%;\n",
              "      cursor: pointer;\n",
              "      display: none;\n",
              "      fill: #1967D2;\n",
              "      height: 32px;\n",
              "      padding: 0 0 0 0;\n",
              "      width: 32px;\n",
              "    }\n",
              "\n",
              "    .colab-df-convert:hover {\n",
              "      background-color: #E2EBFA;\n",
              "      box-shadow: 0px 1px 2px rgba(60, 64, 67, 0.3), 0px 1px 3px 1px rgba(60, 64, 67, 0.15);\n",
              "      fill: #174EA6;\n",
              "    }\n",
              "\n",
              "    .colab-df-buttons div {\n",
              "      margin-bottom: 4px;\n",
              "    }\n",
              "\n",
              "    [theme=dark] .colab-df-convert {\n",
              "      background-color: #3B4455;\n",
              "      fill: #D2E3FC;\n",
              "    }\n",
              "\n",
              "    [theme=dark] .colab-df-convert:hover {\n",
              "      background-color: #434B5C;\n",
              "      box-shadow: 0px 1px 3px 1px rgba(0, 0, 0, 0.15);\n",
              "      filter: drop-shadow(0px 1px 2px rgba(0, 0, 0, 0.3));\n",
              "      fill: #FFFFFF;\n",
              "    }\n",
              "  </style>\n",
              "\n",
              "    <script>\n",
              "      const buttonEl =\n",
              "        document.querySelector('#df-a3be1f11-bc45-4556-ab89-0ba170a22530 button.colab-df-convert');\n",
              "      buttonEl.style.display =\n",
              "        google.colab.kernel.accessAllowed ? 'block' : 'none';\n",
              "\n",
              "      async function convertToInteractive(key) {\n",
              "        const element = document.querySelector('#df-a3be1f11-bc45-4556-ab89-0ba170a22530');\n",
              "        const dataTable =\n",
              "          await google.colab.kernel.invokeFunction('convertToInteractive',\n",
              "                                                    [key], {});\n",
              "        if (!dataTable) return;\n",
              "\n",
              "        const docLinkHtml = 'Like what you see? Visit the ' +\n",
              "          '<a target=\"_blank\" href=https://colab.research.google.com/notebooks/data_table.ipynb>data table notebook</a>'\n",
              "          + ' to learn more about interactive tables.';\n",
              "        element.innerHTML = '';\n",
              "        dataTable['output_type'] = 'display_data';\n",
              "        await google.colab.output.renderOutput(dataTable, element);\n",
              "        const docLink = document.createElement('div');\n",
              "        docLink.innerHTML = docLinkHtml;\n",
              "        element.appendChild(docLink);\n",
              "      }\n",
              "    </script>\n",
              "  </div>\n",
              "\n",
              "\n",
              "<div id=\"df-09f13380-a9ed-4c09-abcd-9e58750e5d18\">\n",
              "  <button class=\"colab-df-quickchart\" onclick=\"quickchart('df-09f13380-a9ed-4c09-abcd-9e58750e5d18')\"\n",
              "            title=\"Suggest charts\"\n",
              "            style=\"display:none;\">\n",
              "\n",
              "<svg xmlns=\"http://www.w3.org/2000/svg\" height=\"24px\"viewBox=\"0 0 24 24\"\n",
              "     width=\"24px\">\n",
              "    <g>\n",
              "        <path d=\"M19 3H5c-1.1 0-2 .9-2 2v14c0 1.1.9 2 2 2h14c1.1 0 2-.9 2-2V5c0-1.1-.9-2-2-2zM9 17H7v-7h2v7zm4 0h-2V7h2v10zm4 0h-2v-4h2v4z\"/>\n",
              "    </g>\n",
              "</svg>\n",
              "  </button>\n",
              "\n",
              "<style>\n",
              "  .colab-df-quickchart {\n",
              "      --bg-color: #E8F0FE;\n",
              "      --fill-color: #1967D2;\n",
              "      --hover-bg-color: #E2EBFA;\n",
              "      --hover-fill-color: #174EA6;\n",
              "      --disabled-fill-color: #AAA;\n",
              "      --disabled-bg-color: #DDD;\n",
              "  }\n",
              "\n",
              "  [theme=dark] .colab-df-quickchart {\n",
              "      --bg-color: #3B4455;\n",
              "      --fill-color: #D2E3FC;\n",
              "      --hover-bg-color: #434B5C;\n",
              "      --hover-fill-color: #FFFFFF;\n",
              "      --disabled-bg-color: #3B4455;\n",
              "      --disabled-fill-color: #666;\n",
              "  }\n",
              "\n",
              "  .colab-df-quickchart {\n",
              "    background-color: var(--bg-color);\n",
              "    border: none;\n",
              "    border-radius: 50%;\n",
              "    cursor: pointer;\n",
              "    display: none;\n",
              "    fill: var(--fill-color);\n",
              "    height: 32px;\n",
              "    padding: 0;\n",
              "    width: 32px;\n",
              "  }\n",
              "\n",
              "  .colab-df-quickchart:hover {\n",
              "    background-color: var(--hover-bg-color);\n",
              "    box-shadow: 0 1px 2px rgba(60, 64, 67, 0.3), 0 1px 3px 1px rgba(60, 64, 67, 0.15);\n",
              "    fill: var(--button-hover-fill-color);\n",
              "  }\n",
              "\n",
              "  .colab-df-quickchart-complete:disabled,\n",
              "  .colab-df-quickchart-complete:disabled:hover {\n",
              "    background-color: var(--disabled-bg-color);\n",
              "    fill: var(--disabled-fill-color);\n",
              "    box-shadow: none;\n",
              "  }\n",
              "\n",
              "  .colab-df-spinner {\n",
              "    border: 2px solid var(--fill-color);\n",
              "    border-color: transparent;\n",
              "    border-bottom-color: var(--fill-color);\n",
              "    animation:\n",
              "      spin 1s steps(1) infinite;\n",
              "  }\n",
              "\n",
              "  @keyframes spin {\n",
              "    0% {\n",
              "      border-color: transparent;\n",
              "      border-bottom-color: var(--fill-color);\n",
              "      border-left-color: var(--fill-color);\n",
              "    }\n",
              "    20% {\n",
              "      border-color: transparent;\n",
              "      border-left-color: var(--fill-color);\n",
              "      border-top-color: var(--fill-color);\n",
              "    }\n",
              "    30% {\n",
              "      border-color: transparent;\n",
              "      border-left-color: var(--fill-color);\n",
              "      border-top-color: var(--fill-color);\n",
              "      border-right-color: var(--fill-color);\n",
              "    }\n",
              "    40% {\n",
              "      border-color: transparent;\n",
              "      border-right-color: var(--fill-color);\n",
              "      border-top-color: var(--fill-color);\n",
              "    }\n",
              "    60% {\n",
              "      border-color: transparent;\n",
              "      border-right-color: var(--fill-color);\n",
              "    }\n",
              "    80% {\n",
              "      border-color: transparent;\n",
              "      border-right-color: var(--fill-color);\n",
              "      border-bottom-color: var(--fill-color);\n",
              "    }\n",
              "    90% {\n",
              "      border-color: transparent;\n",
              "      border-bottom-color: var(--fill-color);\n",
              "    }\n",
              "  }\n",
              "</style>\n",
              "\n",
              "  <script>\n",
              "    async function quickchart(key) {\n",
              "      const quickchartButtonEl =\n",
              "        document.querySelector('#' + key + ' button');\n",
              "      quickchartButtonEl.disabled = true;  // To prevent multiple clicks.\n",
              "      quickchartButtonEl.classList.add('colab-df-spinner');\n",
              "      try {\n",
              "        const charts = await google.colab.kernel.invokeFunction(\n",
              "            'suggestCharts', [key], {});\n",
              "      } catch (error) {\n",
              "        console.error('Error during call to suggestCharts:', error);\n",
              "      }\n",
              "      quickchartButtonEl.classList.remove('colab-df-spinner');\n",
              "      quickchartButtonEl.classList.add('colab-df-quickchart-complete');\n",
              "    }\n",
              "    (() => {\n",
              "      let quickchartButtonEl =\n",
              "        document.querySelector('#df-09f13380-a9ed-4c09-abcd-9e58750e5d18 button');\n",
              "      quickchartButtonEl.style.display =\n",
              "        google.colab.kernel.accessAllowed ? 'block' : 'none';\n",
              "    })();\n",
              "  </script>\n",
              "</div>\n",
              "\n",
              "    </div>\n",
              "  </div>\n"
            ],
            "application/vnd.google.colaboratory.intrinsic+json": {
              "type": "dataframe",
              "variable_name": "df",
              "summary": "{\n  \"name\": \"df\",\n  \"rows\": 200,\n  \"fields\": [\n    {\n      \"column\": \"TV\",\n      \"properties\": {\n        \"dtype\": \"number\",\n        \"std\": 85.85423631490808,\n        \"min\": 0.7,\n        \"max\": 296.4,\n        \"num_unique_values\": 190,\n        \"samples\": [\n          287.6,\n          286.0,\n          78.2\n        ],\n        \"semantic_type\": \"\",\n        \"description\": \"\"\n      }\n    },\n    {\n      \"column\": \"radio\",\n      \"properties\": {\n        \"dtype\": \"number\",\n        \"std\": 14.846809176168724,\n        \"min\": 0.0,\n        \"max\": 49.6,\n        \"num_unique_values\": 167,\n        \"samples\": [\n          8.2,\n          36.9,\n          44.5\n        ],\n        \"semantic_type\": \"\",\n        \"description\": \"\"\n      }\n    },\n    {\n      \"column\": \"newspaper\",\n      \"properties\": {\n        \"dtype\": \"number\",\n        \"std\": 21.778620838522826,\n        \"min\": 0.3,\n        \"max\": 114.0,\n        \"num_unique_values\": 172,\n        \"samples\": [\n          22.3,\n          5.7,\n          17.0\n        ],\n        \"semantic_type\": \"\",\n        \"description\": \"\"\n      }\n    },\n    {\n      \"column\": \"sales\",\n      \"properties\": {\n        \"dtype\": \"number\",\n        \"std\": 5.217456565710478,\n        \"min\": 1.6,\n        \"max\": 27.0,\n        \"num_unique_values\": 121,\n        \"samples\": [\n          11.4,\n          21.2,\n          12.9\n        ],\n        \"semantic_type\": \"\",\n        \"description\": \"\"\n      }\n    }\n  ]\n}"
            }
          },
          "metadata": {},
          "execution_count": 3
        }
      ]
    },
    {
      "cell_type": "code",
      "source": [
        "\n",
        "df.tail()"
      ],
      "metadata": {
        "execution": {
          "iopub.status.busy": "2024-06-08T09:33:03.496239Z",
          "iopub.execute_input": "2024-06-08T09:33:03.496623Z",
          "iopub.status.idle": "2024-06-08T09:33:03.511382Z",
          "shell.execute_reply.started": "2024-06-08T09:33:03.496594Z",
          "shell.execute_reply": "2024-06-08T09:33:03.510133Z"
        },
        "trusted": true,
        "id": "AHyIodeeheLj",
        "outputId": "b54c314d-a428-414c-9bbc-c98ff53f4ec1",
        "colab": {
          "base_uri": "https://localhost:8080/",
          "height": 206
        }
      },
      "execution_count": 4,
      "outputs": [
        {
          "output_type": "execute_result",
          "data": {
            "text/plain": [
              "        TV  radio  newspaper  sales\n",
              "196   38.2    3.7       13.8    7.6\n",
              "197   94.2    4.9        8.1    9.7\n",
              "198  177.0    9.3        6.4   12.8\n",
              "199  283.6   42.0       66.2   25.5\n",
              "200  232.1    8.6        8.7   13.4"
            ],
            "text/html": [
              "\n",
              "  <div id=\"df-e8870507-29ea-4efa-b9b1-f3550e660ca2\" class=\"colab-df-container\">\n",
              "    <div>\n",
              "<style scoped>\n",
              "    .dataframe tbody tr th:only-of-type {\n",
              "        vertical-align: middle;\n",
              "    }\n",
              "\n",
              "    .dataframe tbody tr th {\n",
              "        vertical-align: top;\n",
              "    }\n",
              "\n",
              "    .dataframe thead th {\n",
              "        text-align: right;\n",
              "    }\n",
              "</style>\n",
              "<table border=\"1\" class=\"dataframe\">\n",
              "  <thead>\n",
              "    <tr style=\"text-align: right;\">\n",
              "      <th></th>\n",
              "      <th>TV</th>\n",
              "      <th>radio</th>\n",
              "      <th>newspaper</th>\n",
              "      <th>sales</th>\n",
              "    </tr>\n",
              "  </thead>\n",
              "  <tbody>\n",
              "    <tr>\n",
              "      <th>196</th>\n",
              "      <td>38.2</td>\n",
              "      <td>3.7</td>\n",
              "      <td>13.8</td>\n",
              "      <td>7.6</td>\n",
              "    </tr>\n",
              "    <tr>\n",
              "      <th>197</th>\n",
              "      <td>94.2</td>\n",
              "      <td>4.9</td>\n",
              "      <td>8.1</td>\n",
              "      <td>9.7</td>\n",
              "    </tr>\n",
              "    <tr>\n",
              "      <th>198</th>\n",
              "      <td>177.0</td>\n",
              "      <td>9.3</td>\n",
              "      <td>6.4</td>\n",
              "      <td>12.8</td>\n",
              "    </tr>\n",
              "    <tr>\n",
              "      <th>199</th>\n",
              "      <td>283.6</td>\n",
              "      <td>42.0</td>\n",
              "      <td>66.2</td>\n",
              "      <td>25.5</td>\n",
              "    </tr>\n",
              "    <tr>\n",
              "      <th>200</th>\n",
              "      <td>232.1</td>\n",
              "      <td>8.6</td>\n",
              "      <td>8.7</td>\n",
              "      <td>13.4</td>\n",
              "    </tr>\n",
              "  </tbody>\n",
              "</table>\n",
              "</div>\n",
              "    <div class=\"colab-df-buttons\">\n",
              "\n",
              "  <div class=\"colab-df-container\">\n",
              "    <button class=\"colab-df-convert\" onclick=\"convertToInteractive('df-e8870507-29ea-4efa-b9b1-f3550e660ca2')\"\n",
              "            title=\"Convert this dataframe to an interactive table.\"\n",
              "            style=\"display:none;\">\n",
              "\n",
              "  <svg xmlns=\"http://www.w3.org/2000/svg\" height=\"24px\" viewBox=\"0 -960 960 960\">\n",
              "    <path d=\"M120-120v-720h720v720H120Zm60-500h600v-160H180v160Zm220 220h160v-160H400v160Zm0 220h160v-160H400v160ZM180-400h160v-160H180v160Zm440 0h160v-160H620v160ZM180-180h160v-160H180v160Zm440 0h160v-160H620v160Z\"/>\n",
              "  </svg>\n",
              "    </button>\n",
              "\n",
              "  <style>\n",
              "    .colab-df-container {\n",
              "      display:flex;\n",
              "      gap: 12px;\n",
              "    }\n",
              "\n",
              "    .colab-df-convert {\n",
              "      background-color: #E8F0FE;\n",
              "      border: none;\n",
              "      border-radius: 50%;\n",
              "      cursor: pointer;\n",
              "      display: none;\n",
              "      fill: #1967D2;\n",
              "      height: 32px;\n",
              "      padding: 0 0 0 0;\n",
              "      width: 32px;\n",
              "    }\n",
              "\n",
              "    .colab-df-convert:hover {\n",
              "      background-color: #E2EBFA;\n",
              "      box-shadow: 0px 1px 2px rgba(60, 64, 67, 0.3), 0px 1px 3px 1px rgba(60, 64, 67, 0.15);\n",
              "      fill: #174EA6;\n",
              "    }\n",
              "\n",
              "    .colab-df-buttons div {\n",
              "      margin-bottom: 4px;\n",
              "    }\n",
              "\n",
              "    [theme=dark] .colab-df-convert {\n",
              "      background-color: #3B4455;\n",
              "      fill: #D2E3FC;\n",
              "    }\n",
              "\n",
              "    [theme=dark] .colab-df-convert:hover {\n",
              "      background-color: #434B5C;\n",
              "      box-shadow: 0px 1px 3px 1px rgba(0, 0, 0, 0.15);\n",
              "      filter: drop-shadow(0px 1px 2px rgba(0, 0, 0, 0.3));\n",
              "      fill: #FFFFFF;\n",
              "    }\n",
              "  </style>\n",
              "\n",
              "    <script>\n",
              "      const buttonEl =\n",
              "        document.querySelector('#df-e8870507-29ea-4efa-b9b1-f3550e660ca2 button.colab-df-convert');\n",
              "      buttonEl.style.display =\n",
              "        google.colab.kernel.accessAllowed ? 'block' : 'none';\n",
              "\n",
              "      async function convertToInteractive(key) {\n",
              "        const element = document.querySelector('#df-e8870507-29ea-4efa-b9b1-f3550e660ca2');\n",
              "        const dataTable =\n",
              "          await google.colab.kernel.invokeFunction('convertToInteractive',\n",
              "                                                    [key], {});\n",
              "        if (!dataTable) return;\n",
              "\n",
              "        const docLinkHtml = 'Like what you see? Visit the ' +\n",
              "          '<a target=\"_blank\" href=https://colab.research.google.com/notebooks/data_table.ipynb>data table notebook</a>'\n",
              "          + ' to learn more about interactive tables.';\n",
              "        element.innerHTML = '';\n",
              "        dataTable['output_type'] = 'display_data';\n",
              "        await google.colab.output.renderOutput(dataTable, element);\n",
              "        const docLink = document.createElement('div');\n",
              "        docLink.innerHTML = docLinkHtml;\n",
              "        element.appendChild(docLink);\n",
              "      }\n",
              "    </script>\n",
              "  </div>\n",
              "\n",
              "\n",
              "<div id=\"df-00df3202-80a8-4063-b377-e3a255555fa4\">\n",
              "  <button class=\"colab-df-quickchart\" onclick=\"quickchart('df-00df3202-80a8-4063-b377-e3a255555fa4')\"\n",
              "            title=\"Suggest charts\"\n",
              "            style=\"display:none;\">\n",
              "\n",
              "<svg xmlns=\"http://www.w3.org/2000/svg\" height=\"24px\"viewBox=\"0 0 24 24\"\n",
              "     width=\"24px\">\n",
              "    <g>\n",
              "        <path d=\"M19 3H5c-1.1 0-2 .9-2 2v14c0 1.1.9 2 2 2h14c1.1 0 2-.9 2-2V5c0-1.1-.9-2-2-2zM9 17H7v-7h2v7zm4 0h-2V7h2v10zm4 0h-2v-4h2v4z\"/>\n",
              "    </g>\n",
              "</svg>\n",
              "  </button>\n",
              "\n",
              "<style>\n",
              "  .colab-df-quickchart {\n",
              "      --bg-color: #E8F0FE;\n",
              "      --fill-color: #1967D2;\n",
              "      --hover-bg-color: #E2EBFA;\n",
              "      --hover-fill-color: #174EA6;\n",
              "      --disabled-fill-color: #AAA;\n",
              "      --disabled-bg-color: #DDD;\n",
              "  }\n",
              "\n",
              "  [theme=dark] .colab-df-quickchart {\n",
              "      --bg-color: #3B4455;\n",
              "      --fill-color: #D2E3FC;\n",
              "      --hover-bg-color: #434B5C;\n",
              "      --hover-fill-color: #FFFFFF;\n",
              "      --disabled-bg-color: #3B4455;\n",
              "      --disabled-fill-color: #666;\n",
              "  }\n",
              "\n",
              "  .colab-df-quickchart {\n",
              "    background-color: var(--bg-color);\n",
              "    border: none;\n",
              "    border-radius: 50%;\n",
              "    cursor: pointer;\n",
              "    display: none;\n",
              "    fill: var(--fill-color);\n",
              "    height: 32px;\n",
              "    padding: 0;\n",
              "    width: 32px;\n",
              "  }\n",
              "\n",
              "  .colab-df-quickchart:hover {\n",
              "    background-color: var(--hover-bg-color);\n",
              "    box-shadow: 0 1px 2px rgba(60, 64, 67, 0.3), 0 1px 3px 1px rgba(60, 64, 67, 0.15);\n",
              "    fill: var(--button-hover-fill-color);\n",
              "  }\n",
              "\n",
              "  .colab-df-quickchart-complete:disabled,\n",
              "  .colab-df-quickchart-complete:disabled:hover {\n",
              "    background-color: var(--disabled-bg-color);\n",
              "    fill: var(--disabled-fill-color);\n",
              "    box-shadow: none;\n",
              "  }\n",
              "\n",
              "  .colab-df-spinner {\n",
              "    border: 2px solid var(--fill-color);\n",
              "    border-color: transparent;\n",
              "    border-bottom-color: var(--fill-color);\n",
              "    animation:\n",
              "      spin 1s steps(1) infinite;\n",
              "  }\n",
              "\n",
              "  @keyframes spin {\n",
              "    0% {\n",
              "      border-color: transparent;\n",
              "      border-bottom-color: var(--fill-color);\n",
              "      border-left-color: var(--fill-color);\n",
              "    }\n",
              "    20% {\n",
              "      border-color: transparent;\n",
              "      border-left-color: var(--fill-color);\n",
              "      border-top-color: var(--fill-color);\n",
              "    }\n",
              "    30% {\n",
              "      border-color: transparent;\n",
              "      border-left-color: var(--fill-color);\n",
              "      border-top-color: var(--fill-color);\n",
              "      border-right-color: var(--fill-color);\n",
              "    }\n",
              "    40% {\n",
              "      border-color: transparent;\n",
              "      border-right-color: var(--fill-color);\n",
              "      border-top-color: var(--fill-color);\n",
              "    }\n",
              "    60% {\n",
              "      border-color: transparent;\n",
              "      border-right-color: var(--fill-color);\n",
              "    }\n",
              "    80% {\n",
              "      border-color: transparent;\n",
              "      border-right-color: var(--fill-color);\n",
              "      border-bottom-color: var(--fill-color);\n",
              "    }\n",
              "    90% {\n",
              "      border-color: transparent;\n",
              "      border-bottom-color: var(--fill-color);\n",
              "    }\n",
              "  }\n",
              "</style>\n",
              "\n",
              "  <script>\n",
              "    async function quickchart(key) {\n",
              "      const quickchartButtonEl =\n",
              "        document.querySelector('#' + key + ' button');\n",
              "      quickchartButtonEl.disabled = true;  // To prevent multiple clicks.\n",
              "      quickchartButtonEl.classList.add('colab-df-spinner');\n",
              "      try {\n",
              "        const charts = await google.colab.kernel.invokeFunction(\n",
              "            'suggestCharts', [key], {});\n",
              "      } catch (error) {\n",
              "        console.error('Error during call to suggestCharts:', error);\n",
              "      }\n",
              "      quickchartButtonEl.classList.remove('colab-df-spinner');\n",
              "      quickchartButtonEl.classList.add('colab-df-quickchart-complete');\n",
              "    }\n",
              "    (() => {\n",
              "      let quickchartButtonEl =\n",
              "        document.querySelector('#df-00df3202-80a8-4063-b377-e3a255555fa4 button');\n",
              "      quickchartButtonEl.style.display =\n",
              "        google.colab.kernel.accessAllowed ? 'block' : 'none';\n",
              "    })();\n",
              "  </script>\n",
              "</div>\n",
              "\n",
              "    </div>\n",
              "  </div>\n"
            ],
            "application/vnd.google.colaboratory.intrinsic+json": {
              "type": "dataframe",
              "summary": "{\n  \"name\": \"df\",\n  \"rows\": 5,\n  \"fields\": [\n    {\n      \"column\": \"TV\",\n      \"properties\": {\n        \"dtype\": \"number\",\n        \"std\": 99.75375682148518,\n        \"min\": 38.2,\n        \"max\": 283.6,\n        \"num_unique_values\": 5,\n        \"samples\": [\n          94.2,\n          232.1,\n          177.0\n        ],\n        \"semantic_type\": \"\",\n        \"description\": \"\"\n      }\n    },\n    {\n      \"column\": \"radio\",\n      \"properties\": {\n        \"dtype\": \"number\",\n        \"std\": 15.997656078313472,\n        \"min\": 3.7,\n        \"max\": 42.0,\n        \"num_unique_values\": 5,\n        \"samples\": [\n          4.9,\n          8.6,\n          9.3\n        ],\n        \"semantic_type\": \"\",\n        \"description\": \"\"\n      }\n    },\n    {\n      \"column\": \"newspaper\",\n      \"properties\": {\n        \"dtype\": \"number\",\n        \"std\": 25.61782582499928,\n        \"min\": 6.4,\n        \"max\": 66.2,\n        \"num_unique_values\": 5,\n        \"samples\": [\n          8.1,\n          8.7,\n          6.4\n        ],\n        \"semantic_type\": \"\",\n        \"description\": \"\"\n      }\n    },\n    {\n      \"column\": \"sales\",\n      \"properties\": {\n        \"dtype\": \"number\",\n        \"std\": 6.951618516575834,\n        \"min\": 7.6,\n        \"max\": 25.5,\n        \"num_unique_values\": 5,\n        \"samples\": [\n          9.7,\n          13.4,\n          12.8\n        ],\n        \"semantic_type\": \"\",\n        \"description\": \"\"\n      }\n    }\n  ]\n}"
            }
          },
          "metadata": {},
          "execution_count": 4
        }
      ]
    },
    {
      "cell_type": "code",
      "source": [
        "\n",
        "df.info()"
      ],
      "metadata": {
        "execution": {
          "iopub.status.busy": "2024-06-08T09:33:40.029775Z",
          "iopub.execute_input": "2024-06-08T09:33:40.030223Z",
          "iopub.status.idle": "2024-06-08T09:33:40.04995Z",
          "shell.execute_reply.started": "2024-06-08T09:33:40.030185Z",
          "shell.execute_reply": "2024-06-08T09:33:40.048753Z"
        },
        "trusted": true,
        "id": "8xzC1UEOheLj",
        "outputId": "0018731b-423d-4368-88ff-e0c522a10828",
        "colab": {
          "base_uri": "https://localhost:8080/"
        }
      },
      "execution_count": 5,
      "outputs": [
        {
          "output_type": "stream",
          "name": "stdout",
          "text": [
            "<class 'pandas.core.frame.DataFrame'>\n",
            "Index: 200 entries, 1 to 200\n",
            "Data columns (total 4 columns):\n",
            " #   Column     Non-Null Count  Dtype  \n",
            "---  ------     --------------  -----  \n",
            " 0   TV         200 non-null    float64\n",
            " 1   radio      200 non-null    float64\n",
            " 2   newspaper  200 non-null    float64\n",
            " 3   sales      200 non-null    float64\n",
            "dtypes: float64(4)\n",
            "memory usage: 7.8 KB\n"
          ]
        }
      ]
    },
    {
      "cell_type": "code",
      "source": [
        "\n",
        "df.describe()"
      ],
      "metadata": {
        "execution": {
          "iopub.status.busy": "2024-06-08T09:37:27.228766Z",
          "iopub.execute_input": "2024-06-08T09:37:27.229201Z",
          "iopub.status.idle": "2024-06-08T09:37:27.254435Z",
          "shell.execute_reply.started": "2024-06-08T09:37:27.229166Z",
          "shell.execute_reply": "2024-06-08T09:37:27.253014Z"
        },
        "trusted": true,
        "id": "ek94TkPMheLj",
        "outputId": "32618d4c-f739-4656-ea01-77f6de7032e8",
        "colab": {
          "base_uri": "https://localhost:8080/",
          "height": 300
        }
      },
      "execution_count": 6,
      "outputs": [
        {
          "output_type": "execute_result",
          "data": {
            "text/plain": [
              "               TV       radio   newspaper       sales\n",
              "count  200.000000  200.000000  200.000000  200.000000\n",
              "mean   147.042500   23.264000   30.554000   14.022500\n",
              "std     85.854236   14.846809   21.778621    5.217457\n",
              "min      0.700000    0.000000    0.300000    1.600000\n",
              "25%     74.375000    9.975000   12.750000   10.375000\n",
              "50%    149.750000   22.900000   25.750000   12.900000\n",
              "75%    218.825000   36.525000   45.100000   17.400000\n",
              "max    296.400000   49.600000  114.000000   27.000000"
            ],
            "text/html": [
              "\n",
              "  <div id=\"df-623d03a5-d4d1-4530-8fcf-1606aa387502\" class=\"colab-df-container\">\n",
              "    <div>\n",
              "<style scoped>\n",
              "    .dataframe tbody tr th:only-of-type {\n",
              "        vertical-align: middle;\n",
              "    }\n",
              "\n",
              "    .dataframe tbody tr th {\n",
              "        vertical-align: top;\n",
              "    }\n",
              "\n",
              "    .dataframe thead th {\n",
              "        text-align: right;\n",
              "    }\n",
              "</style>\n",
              "<table border=\"1\" class=\"dataframe\">\n",
              "  <thead>\n",
              "    <tr style=\"text-align: right;\">\n",
              "      <th></th>\n",
              "      <th>TV</th>\n",
              "      <th>radio</th>\n",
              "      <th>newspaper</th>\n",
              "      <th>sales</th>\n",
              "    </tr>\n",
              "  </thead>\n",
              "  <tbody>\n",
              "    <tr>\n",
              "      <th>count</th>\n",
              "      <td>200.000000</td>\n",
              "      <td>200.000000</td>\n",
              "      <td>200.000000</td>\n",
              "      <td>200.000000</td>\n",
              "    </tr>\n",
              "    <tr>\n",
              "      <th>mean</th>\n",
              "      <td>147.042500</td>\n",
              "      <td>23.264000</td>\n",
              "      <td>30.554000</td>\n",
              "      <td>14.022500</td>\n",
              "    </tr>\n",
              "    <tr>\n",
              "      <th>std</th>\n",
              "      <td>85.854236</td>\n",
              "      <td>14.846809</td>\n",
              "      <td>21.778621</td>\n",
              "      <td>5.217457</td>\n",
              "    </tr>\n",
              "    <tr>\n",
              "      <th>min</th>\n",
              "      <td>0.700000</td>\n",
              "      <td>0.000000</td>\n",
              "      <td>0.300000</td>\n",
              "      <td>1.600000</td>\n",
              "    </tr>\n",
              "    <tr>\n",
              "      <th>25%</th>\n",
              "      <td>74.375000</td>\n",
              "      <td>9.975000</td>\n",
              "      <td>12.750000</td>\n",
              "      <td>10.375000</td>\n",
              "    </tr>\n",
              "    <tr>\n",
              "      <th>50%</th>\n",
              "      <td>149.750000</td>\n",
              "      <td>22.900000</td>\n",
              "      <td>25.750000</td>\n",
              "      <td>12.900000</td>\n",
              "    </tr>\n",
              "    <tr>\n",
              "      <th>75%</th>\n",
              "      <td>218.825000</td>\n",
              "      <td>36.525000</td>\n",
              "      <td>45.100000</td>\n",
              "      <td>17.400000</td>\n",
              "    </tr>\n",
              "    <tr>\n",
              "      <th>max</th>\n",
              "      <td>296.400000</td>\n",
              "      <td>49.600000</td>\n",
              "      <td>114.000000</td>\n",
              "      <td>27.000000</td>\n",
              "    </tr>\n",
              "  </tbody>\n",
              "</table>\n",
              "</div>\n",
              "    <div class=\"colab-df-buttons\">\n",
              "\n",
              "  <div class=\"colab-df-container\">\n",
              "    <button class=\"colab-df-convert\" onclick=\"convertToInteractive('df-623d03a5-d4d1-4530-8fcf-1606aa387502')\"\n",
              "            title=\"Convert this dataframe to an interactive table.\"\n",
              "            style=\"display:none;\">\n",
              "\n",
              "  <svg xmlns=\"http://www.w3.org/2000/svg\" height=\"24px\" viewBox=\"0 -960 960 960\">\n",
              "    <path d=\"M120-120v-720h720v720H120Zm60-500h600v-160H180v160Zm220 220h160v-160H400v160Zm0 220h160v-160H400v160ZM180-400h160v-160H180v160Zm440 0h160v-160H620v160ZM180-180h160v-160H180v160Zm440 0h160v-160H620v160Z\"/>\n",
              "  </svg>\n",
              "    </button>\n",
              "\n",
              "  <style>\n",
              "    .colab-df-container {\n",
              "      display:flex;\n",
              "      gap: 12px;\n",
              "    }\n",
              "\n",
              "    .colab-df-convert {\n",
              "      background-color: #E8F0FE;\n",
              "      border: none;\n",
              "      border-radius: 50%;\n",
              "      cursor: pointer;\n",
              "      display: none;\n",
              "      fill: #1967D2;\n",
              "      height: 32px;\n",
              "      padding: 0 0 0 0;\n",
              "      width: 32px;\n",
              "    }\n",
              "\n",
              "    .colab-df-convert:hover {\n",
              "      background-color: #E2EBFA;\n",
              "      box-shadow: 0px 1px 2px rgba(60, 64, 67, 0.3), 0px 1px 3px 1px rgba(60, 64, 67, 0.15);\n",
              "      fill: #174EA6;\n",
              "    }\n",
              "\n",
              "    .colab-df-buttons div {\n",
              "      margin-bottom: 4px;\n",
              "    }\n",
              "\n",
              "    [theme=dark] .colab-df-convert {\n",
              "      background-color: #3B4455;\n",
              "      fill: #D2E3FC;\n",
              "    }\n",
              "\n",
              "    [theme=dark] .colab-df-convert:hover {\n",
              "      background-color: #434B5C;\n",
              "      box-shadow: 0px 1px 3px 1px rgba(0, 0, 0, 0.15);\n",
              "      filter: drop-shadow(0px 1px 2px rgba(0, 0, 0, 0.3));\n",
              "      fill: #FFFFFF;\n",
              "    }\n",
              "  </style>\n",
              "\n",
              "    <script>\n",
              "      const buttonEl =\n",
              "        document.querySelector('#df-623d03a5-d4d1-4530-8fcf-1606aa387502 button.colab-df-convert');\n",
              "      buttonEl.style.display =\n",
              "        google.colab.kernel.accessAllowed ? 'block' : 'none';\n",
              "\n",
              "      async function convertToInteractive(key) {\n",
              "        const element = document.querySelector('#df-623d03a5-d4d1-4530-8fcf-1606aa387502');\n",
              "        const dataTable =\n",
              "          await google.colab.kernel.invokeFunction('convertToInteractive',\n",
              "                                                    [key], {});\n",
              "        if (!dataTable) return;\n",
              "\n",
              "        const docLinkHtml = 'Like what you see? Visit the ' +\n",
              "          '<a target=\"_blank\" href=https://colab.research.google.com/notebooks/data_table.ipynb>data table notebook</a>'\n",
              "          + ' to learn more about interactive tables.';\n",
              "        element.innerHTML = '';\n",
              "        dataTable['output_type'] = 'display_data';\n",
              "        await google.colab.output.renderOutput(dataTable, element);\n",
              "        const docLink = document.createElement('div');\n",
              "        docLink.innerHTML = docLinkHtml;\n",
              "        element.appendChild(docLink);\n",
              "      }\n",
              "    </script>\n",
              "  </div>\n",
              "\n",
              "\n",
              "<div id=\"df-25f73bf6-326d-47d1-a3f3-1a30e55705a0\">\n",
              "  <button class=\"colab-df-quickchart\" onclick=\"quickchart('df-25f73bf6-326d-47d1-a3f3-1a30e55705a0')\"\n",
              "            title=\"Suggest charts\"\n",
              "            style=\"display:none;\">\n",
              "\n",
              "<svg xmlns=\"http://www.w3.org/2000/svg\" height=\"24px\"viewBox=\"0 0 24 24\"\n",
              "     width=\"24px\">\n",
              "    <g>\n",
              "        <path d=\"M19 3H5c-1.1 0-2 .9-2 2v14c0 1.1.9 2 2 2h14c1.1 0 2-.9 2-2V5c0-1.1-.9-2-2-2zM9 17H7v-7h2v7zm4 0h-2V7h2v10zm4 0h-2v-4h2v4z\"/>\n",
              "    </g>\n",
              "</svg>\n",
              "  </button>\n",
              "\n",
              "<style>\n",
              "  .colab-df-quickchart {\n",
              "      --bg-color: #E8F0FE;\n",
              "      --fill-color: #1967D2;\n",
              "      --hover-bg-color: #E2EBFA;\n",
              "      --hover-fill-color: #174EA6;\n",
              "      --disabled-fill-color: #AAA;\n",
              "      --disabled-bg-color: #DDD;\n",
              "  }\n",
              "\n",
              "  [theme=dark] .colab-df-quickchart {\n",
              "      --bg-color: #3B4455;\n",
              "      --fill-color: #D2E3FC;\n",
              "      --hover-bg-color: #434B5C;\n",
              "      --hover-fill-color: #FFFFFF;\n",
              "      --disabled-bg-color: #3B4455;\n",
              "      --disabled-fill-color: #666;\n",
              "  }\n",
              "\n",
              "  .colab-df-quickchart {\n",
              "    background-color: var(--bg-color);\n",
              "    border: none;\n",
              "    border-radius: 50%;\n",
              "    cursor: pointer;\n",
              "    display: none;\n",
              "    fill: var(--fill-color);\n",
              "    height: 32px;\n",
              "    padding: 0;\n",
              "    width: 32px;\n",
              "  }\n",
              "\n",
              "  .colab-df-quickchart:hover {\n",
              "    background-color: var(--hover-bg-color);\n",
              "    box-shadow: 0 1px 2px rgba(60, 64, 67, 0.3), 0 1px 3px 1px rgba(60, 64, 67, 0.15);\n",
              "    fill: var(--button-hover-fill-color);\n",
              "  }\n",
              "\n",
              "  .colab-df-quickchart-complete:disabled,\n",
              "  .colab-df-quickchart-complete:disabled:hover {\n",
              "    background-color: var(--disabled-bg-color);\n",
              "    fill: var(--disabled-fill-color);\n",
              "    box-shadow: none;\n",
              "  }\n",
              "\n",
              "  .colab-df-spinner {\n",
              "    border: 2px solid var(--fill-color);\n",
              "    border-color: transparent;\n",
              "    border-bottom-color: var(--fill-color);\n",
              "    animation:\n",
              "      spin 1s steps(1) infinite;\n",
              "  }\n",
              "\n",
              "  @keyframes spin {\n",
              "    0% {\n",
              "      border-color: transparent;\n",
              "      border-bottom-color: var(--fill-color);\n",
              "      border-left-color: var(--fill-color);\n",
              "    }\n",
              "    20% {\n",
              "      border-color: transparent;\n",
              "      border-left-color: var(--fill-color);\n",
              "      border-top-color: var(--fill-color);\n",
              "    }\n",
              "    30% {\n",
              "      border-color: transparent;\n",
              "      border-left-color: var(--fill-color);\n",
              "      border-top-color: var(--fill-color);\n",
              "      border-right-color: var(--fill-color);\n",
              "    }\n",
              "    40% {\n",
              "      border-color: transparent;\n",
              "      border-right-color: var(--fill-color);\n",
              "      border-top-color: var(--fill-color);\n",
              "    }\n",
              "    60% {\n",
              "      border-color: transparent;\n",
              "      border-right-color: var(--fill-color);\n",
              "    }\n",
              "    80% {\n",
              "      border-color: transparent;\n",
              "      border-right-color: var(--fill-color);\n",
              "      border-bottom-color: var(--fill-color);\n",
              "    }\n",
              "    90% {\n",
              "      border-color: transparent;\n",
              "      border-bottom-color: var(--fill-color);\n",
              "    }\n",
              "  }\n",
              "</style>\n",
              "\n",
              "  <script>\n",
              "    async function quickchart(key) {\n",
              "      const quickchartButtonEl =\n",
              "        document.querySelector('#' + key + ' button');\n",
              "      quickchartButtonEl.disabled = true;  // To prevent multiple clicks.\n",
              "      quickchartButtonEl.classList.add('colab-df-spinner');\n",
              "      try {\n",
              "        const charts = await google.colab.kernel.invokeFunction(\n",
              "            'suggestCharts', [key], {});\n",
              "      } catch (error) {\n",
              "        console.error('Error during call to suggestCharts:', error);\n",
              "      }\n",
              "      quickchartButtonEl.classList.remove('colab-df-spinner');\n",
              "      quickchartButtonEl.classList.add('colab-df-quickchart-complete');\n",
              "    }\n",
              "    (() => {\n",
              "      let quickchartButtonEl =\n",
              "        document.querySelector('#df-25f73bf6-326d-47d1-a3f3-1a30e55705a0 button');\n",
              "      quickchartButtonEl.style.display =\n",
              "        google.colab.kernel.accessAllowed ? 'block' : 'none';\n",
              "    })();\n",
              "  </script>\n",
              "</div>\n",
              "\n",
              "    </div>\n",
              "  </div>\n"
            ],
            "application/vnd.google.colaboratory.intrinsic+json": {
              "type": "dataframe",
              "summary": "{\n  \"name\": \"df\",\n  \"rows\": 8,\n  \"fields\": [\n    {\n      \"column\": \"TV\",\n      \"properties\": {\n        \"dtype\": \"number\",\n        \"std\": 93.12930693433862,\n        \"min\": 0.7,\n        \"max\": 296.4,\n        \"num_unique_values\": 8,\n        \"samples\": [\n          147.0425,\n          149.75,\n          200.0\n        ],\n        \"semantic_type\": \"\",\n        \"description\": \"\"\n      }\n    },\n    {\n      \"column\": \"radio\",\n      \"properties\": {\n        \"dtype\": \"number\",\n        \"std\": 64.62946191825954,\n        \"min\": 0.0,\n        \"max\": 200.0,\n        \"num_unique_values\": 8,\n        \"samples\": [\n          23.264000000000006,\n          22.9,\n          200.0\n        ],\n        \"semantic_type\": \"\",\n        \"description\": \"\"\n      }\n    },\n    {\n      \"column\": \"newspaper\",\n      \"properties\": {\n        \"dtype\": \"number\",\n        \"std\": 67.53295876114069,\n        \"min\": 0.3,\n        \"max\": 200.0,\n        \"num_unique_values\": 8,\n        \"samples\": [\n          30.553999999999995,\n          25.75,\n          200.0\n        ],\n        \"semantic_type\": \"\",\n        \"description\": \"\"\n      }\n    },\n    {\n      \"column\": \"sales\",\n      \"properties\": {\n        \"dtype\": \"number\",\n        \"std\": 66.68380930502316,\n        \"min\": 1.6,\n        \"max\": 200.0,\n        \"num_unique_values\": 8,\n        \"samples\": [\n          14.0225,\n          12.9,\n          200.0\n        ],\n        \"semantic_type\": \"\",\n        \"description\": \"\"\n      }\n    }\n  ]\n}"
            }
          },
          "metadata": {},
          "execution_count": 6
        }
      ]
    },
    {
      "cell_type": "markdown",
      "source": [
        "<a id = 4></a>\n",
        "## 4- Visualize the data"
      ],
      "metadata": {
        "id": "7ZLJUgU3heLj"
      }
    },
    {
      "cell_type": "code",
      "source": [
        "#input output\n",
        "data = df[['TV', 'sales']]\n",
        "\n",
        "#input -> feature (X)\n",
        "X = data['TV']\n",
        "\n",
        "#output\n",
        "y = data['sales']"
      ],
      "metadata": {
        "execution": {
          "iopub.status.busy": "2024-06-08T10:33:31.577281Z",
          "iopub.execute_input": "2024-06-08T10:33:31.577669Z",
          "iopub.status.idle": "2024-06-08T10:33:31.585607Z",
          "shell.execute_reply.started": "2024-06-08T10:33:31.57764Z",
          "shell.execute_reply": "2024-06-08T10:33:31.584021Z"
        },
        "trusted": true,
        "id": "TWJNITiLheLj"
      },
      "execution_count": 7,
      "outputs": []
    },
    {
      "cell_type": "code",
      "source": [
        "\n",
        "type(X)"
      ],
      "metadata": {
        "execution": {
          "iopub.status.busy": "2024-06-08T10:33:32.446675Z",
          "iopub.execute_input": "2024-06-08T10:33:32.447107Z",
          "iopub.status.idle": "2024-06-08T10:33:32.45493Z",
          "shell.execute_reply.started": "2024-06-08T10:33:32.447072Z",
          "shell.execute_reply": "2024-06-08T10:33:32.453594Z"
        },
        "trusted": true,
        "id": "vLVA5yfYheLk",
        "outputId": "fd0c1ec2-b687-4c56-b78f-3202405f870b",
        "colab": {
          "base_uri": "https://localhost:8080/",
          "height": 203
        }
      },
      "execution_count": 8,
      "outputs": [
        {
          "output_type": "execute_result",
          "data": {
            "text/plain": [
              "pandas.core.series.Series"
            ],
            "text/html": [
              "<div style=\"max-width:800px; border: 1px solid var(--colab-border-color);\"><style>\n",
              "      pre.function-repr-contents {\n",
              "        overflow-x: auto;\n",
              "        padding: 8px 12px;\n",
              "        max-height: 500px;\n",
              "      }\n",
              "\n",
              "      pre.function-repr-contents.function-repr-contents-collapsed {\n",
              "        cursor: pointer;\n",
              "        max-height: 100px;\n",
              "      }\n",
              "    </style>\n",
              "    <pre style=\"white-space: initial; background:\n",
              "         var(--colab-secondary-surface-color); padding: 8px 12px;\n",
              "         border-bottom: 1px solid var(--colab-border-color);\"><b>pandas.core.series.Series</b><br/>def __init__(data=None, index=None, dtype: Dtype | None=None, name=None, copy: bool | None=None, fastpath: bool=False) -&gt; None</pre><pre class=\"function-repr-contents function-repr-contents-collapsed\" style=\"\"><a class=\"filepath\" style=\"display:none\" href=\"#\">/usr/local/lib/python3.10/dist-packages/pandas/core/series.py</a>One-dimensional ndarray with axis labels (including time series).\n",
              "\n",
              "Labels need not be unique but must be a hashable type. The object\n",
              "supports both integer- and label-based indexing and provides a host of\n",
              "methods for performing operations involving the index. Statistical\n",
              "methods from ndarray have been overridden to automatically exclude\n",
              "missing data (currently represented as NaN).\n",
              "\n",
              "Operations between Series (+, -, /, \\*, \\*\\*) align values based on their\n",
              "associated index values-- they need not be the same length. The result\n",
              "index will be the sorted union of the two indexes.\n",
              "\n",
              "Parameters\n",
              "----------\n",
              "data : array-like, Iterable, dict, or scalar value\n",
              "    Contains data stored in Series. If data is a dict, argument order is\n",
              "    maintained.\n",
              "index : array-like or Index (1d)\n",
              "    Values must be hashable and have the same length as `data`.\n",
              "    Non-unique index values are allowed. Will default to\n",
              "    RangeIndex (0, 1, 2, ..., n) if not provided. If data is dict-like\n",
              "    and index is None, then the keys in the data are used as the index. If the\n",
              "    index is not None, the resulting Series is reindexed with the index values.\n",
              "dtype : str, numpy.dtype, or ExtensionDtype, optional\n",
              "    Data type for the output Series. If not specified, this will be\n",
              "    inferred from `data`.\n",
              "    See the :ref:`user guide &lt;basics.dtypes&gt;` for more usages.\n",
              "name : Hashable, default None\n",
              "    The name to give to the Series.\n",
              "copy : bool, default False\n",
              "    Copy input data. Only affects Series or 1d ndarray input. See examples.\n",
              "\n",
              "Notes\n",
              "-----\n",
              "Please reference the :ref:`User Guide &lt;basics.series&gt;` for more information.\n",
              "\n",
              "Examples\n",
              "--------\n",
              "Constructing Series from a dictionary with an Index specified\n",
              "\n",
              "&gt;&gt;&gt; d = {&#x27;a&#x27;: 1, &#x27;b&#x27;: 2, &#x27;c&#x27;: 3}\n",
              "&gt;&gt;&gt; ser = pd.Series(data=d, index=[&#x27;a&#x27;, &#x27;b&#x27;, &#x27;c&#x27;])\n",
              "&gt;&gt;&gt; ser\n",
              "a   1\n",
              "b   2\n",
              "c   3\n",
              "dtype: int64\n",
              "\n",
              "The keys of the dictionary match with the Index values, hence the Index\n",
              "values have no effect.\n",
              "\n",
              "&gt;&gt;&gt; d = {&#x27;a&#x27;: 1, &#x27;b&#x27;: 2, &#x27;c&#x27;: 3}\n",
              "&gt;&gt;&gt; ser = pd.Series(data=d, index=[&#x27;x&#x27;, &#x27;y&#x27;, &#x27;z&#x27;])\n",
              "&gt;&gt;&gt; ser\n",
              "x   NaN\n",
              "y   NaN\n",
              "z   NaN\n",
              "dtype: float64\n",
              "\n",
              "Note that the Index is first build with the keys from the dictionary.\n",
              "After this the Series is reindexed with the given Index values, hence we\n",
              "get all NaN as a result.\n",
              "\n",
              "Constructing Series from a list with `copy=False`.\n",
              "\n",
              "&gt;&gt;&gt; r = [1, 2]\n",
              "&gt;&gt;&gt; ser = pd.Series(r, copy=False)\n",
              "&gt;&gt;&gt; ser.iloc[0] = 999\n",
              "&gt;&gt;&gt; r\n",
              "[1, 2]\n",
              "&gt;&gt;&gt; ser\n",
              "0    999\n",
              "1      2\n",
              "dtype: int64\n",
              "\n",
              "Due to input data type the Series has a `copy` of\n",
              "the original data even though `copy=False`, so\n",
              "the data is unchanged.\n",
              "\n",
              "Constructing Series from a 1d ndarray with `copy=False`.\n",
              "\n",
              "&gt;&gt;&gt; r = np.array([1, 2])\n",
              "&gt;&gt;&gt; ser = pd.Series(r, copy=False)\n",
              "&gt;&gt;&gt; ser.iloc[0] = 999\n",
              "&gt;&gt;&gt; r\n",
              "array([999,   2])\n",
              "&gt;&gt;&gt; ser\n",
              "0    999\n",
              "1      2\n",
              "dtype: int64\n",
              "\n",
              "Due to input data type the Series has a `view` on\n",
              "the original data, so\n",
              "the data is changed as well.</pre>\n",
              "      <script>\n",
              "      if (google.colab.kernel.accessAllowed && google.colab.files && google.colab.files.view) {\n",
              "        for (const element of document.querySelectorAll('.filepath')) {\n",
              "          element.style.display = 'block'\n",
              "          element.onclick = (event) => {\n",
              "            event.preventDefault();\n",
              "            event.stopPropagation();\n",
              "            google.colab.files.view(element.textContent, 244);\n",
              "          };\n",
              "        }\n",
              "      }\n",
              "      for (const element of document.querySelectorAll('.function-repr-contents')) {\n",
              "        element.onclick = (event) => {\n",
              "          event.preventDefault();\n",
              "          event.stopPropagation();\n",
              "          element.classList.toggle('function-repr-contents-collapsed');\n",
              "        };\n",
              "      }\n",
              "      </script>\n",
              "      </div>"
            ]
          },
          "metadata": {},
          "execution_count": 8
        }
      ]
    },
    {
      "cell_type": "code",
      "source": [
        "\n",
        "type(y)"
      ],
      "metadata": {
        "execution": {
          "iopub.status.busy": "2024-06-08T10:33:33.185819Z",
          "iopub.execute_input": "2024-06-08T10:33:33.186211Z",
          "iopub.status.idle": "2024-06-08T10:33:33.193153Z",
          "shell.execute_reply.started": "2024-06-08T10:33:33.186182Z",
          "shell.execute_reply": "2024-06-08T10:33:33.191878Z"
        },
        "trusted": true,
        "id": "HjXsOG6oheLk",
        "outputId": "f0acadfe-3c03-4f33-8ea3-30e35af7ea0f",
        "colab": {
          "base_uri": "https://localhost:8080/",
          "height": 203
        }
      },
      "execution_count": 9,
      "outputs": [
        {
          "output_type": "execute_result",
          "data": {
            "text/plain": [
              "pandas.core.series.Series"
            ],
            "text/html": [
              "<div style=\"max-width:800px; border: 1px solid var(--colab-border-color);\"><style>\n",
              "      pre.function-repr-contents {\n",
              "        overflow-x: auto;\n",
              "        padding: 8px 12px;\n",
              "        max-height: 500px;\n",
              "      }\n",
              "\n",
              "      pre.function-repr-contents.function-repr-contents-collapsed {\n",
              "        cursor: pointer;\n",
              "        max-height: 100px;\n",
              "      }\n",
              "    </style>\n",
              "    <pre style=\"white-space: initial; background:\n",
              "         var(--colab-secondary-surface-color); padding: 8px 12px;\n",
              "         border-bottom: 1px solid var(--colab-border-color);\"><b>pandas.core.series.Series</b><br/>def __init__(data=None, index=None, dtype: Dtype | None=None, name=None, copy: bool | None=None, fastpath: bool=False) -&gt; None</pre><pre class=\"function-repr-contents function-repr-contents-collapsed\" style=\"\"><a class=\"filepath\" style=\"display:none\" href=\"#\">/usr/local/lib/python3.10/dist-packages/pandas/core/series.py</a>One-dimensional ndarray with axis labels (including time series).\n",
              "\n",
              "Labels need not be unique but must be a hashable type. The object\n",
              "supports both integer- and label-based indexing and provides a host of\n",
              "methods for performing operations involving the index. Statistical\n",
              "methods from ndarray have been overridden to automatically exclude\n",
              "missing data (currently represented as NaN).\n",
              "\n",
              "Operations between Series (+, -, /, \\*, \\*\\*) align values based on their\n",
              "associated index values-- they need not be the same length. The result\n",
              "index will be the sorted union of the two indexes.\n",
              "\n",
              "Parameters\n",
              "----------\n",
              "data : array-like, Iterable, dict, or scalar value\n",
              "    Contains data stored in Series. If data is a dict, argument order is\n",
              "    maintained.\n",
              "index : array-like or Index (1d)\n",
              "    Values must be hashable and have the same length as `data`.\n",
              "    Non-unique index values are allowed. Will default to\n",
              "    RangeIndex (0, 1, 2, ..., n) if not provided. If data is dict-like\n",
              "    and index is None, then the keys in the data are used as the index. If the\n",
              "    index is not None, the resulting Series is reindexed with the index values.\n",
              "dtype : str, numpy.dtype, or ExtensionDtype, optional\n",
              "    Data type for the output Series. If not specified, this will be\n",
              "    inferred from `data`.\n",
              "    See the :ref:`user guide &lt;basics.dtypes&gt;` for more usages.\n",
              "name : Hashable, default None\n",
              "    The name to give to the Series.\n",
              "copy : bool, default False\n",
              "    Copy input data. Only affects Series or 1d ndarray input. See examples.\n",
              "\n",
              "Notes\n",
              "-----\n",
              "Please reference the :ref:`User Guide &lt;basics.series&gt;` for more information.\n",
              "\n",
              "Examples\n",
              "--------\n",
              "Constructing Series from a dictionary with an Index specified\n",
              "\n",
              "&gt;&gt;&gt; d = {&#x27;a&#x27;: 1, &#x27;b&#x27;: 2, &#x27;c&#x27;: 3}\n",
              "&gt;&gt;&gt; ser = pd.Series(data=d, index=[&#x27;a&#x27;, &#x27;b&#x27;, &#x27;c&#x27;])\n",
              "&gt;&gt;&gt; ser\n",
              "a   1\n",
              "b   2\n",
              "c   3\n",
              "dtype: int64\n",
              "\n",
              "The keys of the dictionary match with the Index values, hence the Index\n",
              "values have no effect.\n",
              "\n",
              "&gt;&gt;&gt; d = {&#x27;a&#x27;: 1, &#x27;b&#x27;: 2, &#x27;c&#x27;: 3}\n",
              "&gt;&gt;&gt; ser = pd.Series(data=d, index=[&#x27;x&#x27;, &#x27;y&#x27;, &#x27;z&#x27;])\n",
              "&gt;&gt;&gt; ser\n",
              "x   NaN\n",
              "y   NaN\n",
              "z   NaN\n",
              "dtype: float64\n",
              "\n",
              "Note that the Index is first build with the keys from the dictionary.\n",
              "After this the Series is reindexed with the given Index values, hence we\n",
              "get all NaN as a result.\n",
              "\n",
              "Constructing Series from a list with `copy=False`.\n",
              "\n",
              "&gt;&gt;&gt; r = [1, 2]\n",
              "&gt;&gt;&gt; ser = pd.Series(r, copy=False)\n",
              "&gt;&gt;&gt; ser.iloc[0] = 999\n",
              "&gt;&gt;&gt; r\n",
              "[1, 2]\n",
              "&gt;&gt;&gt; ser\n",
              "0    999\n",
              "1      2\n",
              "dtype: int64\n",
              "\n",
              "Due to input data type the Series has a `copy` of\n",
              "the original data even though `copy=False`, so\n",
              "the data is unchanged.\n",
              "\n",
              "Constructing Series from a 1d ndarray with `copy=False`.\n",
              "\n",
              "&gt;&gt;&gt; r = np.array([1, 2])\n",
              "&gt;&gt;&gt; ser = pd.Series(r, copy=False)\n",
              "&gt;&gt;&gt; ser.iloc[0] = 999\n",
              "&gt;&gt;&gt; r\n",
              "array([999,   2])\n",
              "&gt;&gt;&gt; ser\n",
              "0    999\n",
              "1      2\n",
              "dtype: int64\n",
              "\n",
              "Due to input data type the Series has a `view` on\n",
              "the original data, so\n",
              "the data is changed as well.</pre>\n",
              "      <script>\n",
              "      if (google.colab.kernel.accessAllowed && google.colab.files && google.colab.files.view) {\n",
              "        for (const element of document.querySelectorAll('.filepath')) {\n",
              "          element.style.display = 'block'\n",
              "          element.onclick = (event) => {\n",
              "            event.preventDefault();\n",
              "            event.stopPropagation();\n",
              "            google.colab.files.view(element.textContent, 244);\n",
              "          };\n",
              "        }\n",
              "      }\n",
              "      for (const element of document.querySelectorAll('.function-repr-contents')) {\n",
              "        element.onclick = (event) => {\n",
              "          event.preventDefault();\n",
              "          event.stopPropagation();\n",
              "          element.classList.toggle('function-repr-contents-collapsed');\n",
              "        };\n",
              "      }\n",
              "      </script>\n",
              "      </div>"
            ]
          },
          "metadata": {},
          "execution_count": 9
        }
      ]
    },
    {
      "cell_type": "code",
      "source": [
        "#grafik çiz\n",
        "\n",
        "plt.figure(figsize=(12,8))\n",
        "\n",
        "sns.scatterplot(data=data, x='TV', y='sales', color='orange')\n",
        "\n",
        "plt.title('SALES - TV')\n",
        "plt.show()"
      ],
      "metadata": {
        "execution": {
          "iopub.status.busy": "2024-06-08T10:33:33.863355Z",
          "iopub.execute_input": "2024-06-08T10:33:33.863746Z",
          "iopub.status.idle": "2024-06-08T10:33:34.168387Z",
          "shell.execute_reply.started": "2024-06-08T10:33:33.863713Z",
          "shell.execute_reply": "2024-06-08T10:33:34.167205Z"
        },
        "trusted": true,
        "id": "RLhl2LvEheLk",
        "outputId": "3eb7d371-60cf-4edd-ad57-61384197aa67",
        "colab": {
          "base_uri": "https://localhost:8080/",
          "height": 718
        }
      },
      "execution_count": 10,
      "outputs": [
        {
          "output_type": "display_data",
          "data": {
            "text/plain": [
              "<Figure size 1200x800 with 1 Axes>"
            ],
            "image/png": "[encoded data removed]"
          },
          "metadata": {}
        }
      ]
    },
    {
      "cell_type": "markdown",
      "source": [
        "<a id =5 ></a>\n",
        "## 5- Create the model (formulas)"
      ],
      "metadata": {
        "id": "SaEUR0PLheLk"
      }
    },
    {
      "cell_type": "markdown",
      "source": [
        "$$ y = \\beta_0 + \\beta_1X $$"
      ],
      "metadata": {
        "id": "dqr4Vc23heLk"
      }
    },
    {
      "cell_type": "markdown",
      "source": [
        "Machine Learning : Scikit Learn\n",
        "\n",
        "`conda install -c anaconda scikit-learn`\n",
        "\n",
        "https://scikit-learn.org/stable/modules/generated/sklearn.linear_model.LinearRegression.html"
      ],
      "metadata": {
        "id": "861fkSdBheLk"
      }
    },
    {
      "cell_type": "code",
      "source": [
        "#Sklearn Linear Regression\n",
        "from sklearn.linear_model import LinearRegression"
      ],
      "metadata": {
        "execution": {
          "iopub.status.busy": "2024-06-08T10:33:36.789648Z",
          "iopub.execute_input": "2024-06-08T10:33:36.790035Z",
          "iopub.status.idle": "2024-06-08T10:33:36.795473Z",
          "shell.execute_reply.started": "2024-06-08T10:33:36.790007Z",
          "shell.execute_reply": "2024-06-08T10:33:36.794189Z"
        },
        "trusted": true,
        "id": "Nq1FNiEPheLk"
      },
      "execution_count": 11,
      "outputs": []
    },
    {
      "cell_type": "code",
      "source": [
        "# Lineer Regresyon nesnesi için;\n",
        "lr = LinearRegression"
      ],
      "metadata": {
        "execution": {
          "iopub.status.busy": "2024-06-08T10:33:37.671272Z",
          "iopub.execute_input": "2024-06-08T10:33:37.671674Z",
          "iopub.status.idle": "2024-06-08T10:33:37.676772Z",
          "shell.execute_reply.started": "2024-06-08T10:33:37.671642Z",
          "shell.execute_reply": "2024-06-08T10:33:37.675721Z"
        },
        "trusted": true,
        "id": "GdiHzN6yheLk"
      },
      "execution_count": 12,
      "outputs": []
    },
    {
      "cell_type": "markdown",
      "source": [
        "<a id =6 ></a>\n",
        "## 6- Preparation"
      ],
      "metadata": {
        "id": "QifMhlhJheLk"
      }
    },
    {
      "cell_type": "markdown",
      "source": [],
      "metadata": {
        "id": "kgA_v3yAheLk"
      }
    },
    {
      "cell_type": "code",
      "source": [
        "# once input ve output boyutlarına bakalım\n",
        "\n",
        "print(\"X'in boyutu:\", X.shape)\n",
        "print(\"y'in boyutu:\", y.shape)"
      ],
      "metadata": {
        "execution": {
          "iopub.status.busy": "2024-06-08T10:33:47.831829Z",
          "iopub.execute_input": "2024-06-08T10:33:47.832267Z",
          "iopub.status.idle": "2024-06-08T10:33:47.838997Z",
          "shell.execute_reply.started": "2024-06-08T10:33:47.832234Z",
          "shell.execute_reply": "2024-06-08T10:33:47.837466Z"
        },
        "trusted": true,
        "id": "Vj7PUJX2heLl",
        "outputId": "3be96df8-f406-45e8-c2f1-d70841e6db24",
        "colab": {
          "base_uri": "https://localhost:8080/"
        }
      },
      "execution_count": 13,
      "outputs": [
        {
          "output_type": "stream",
          "name": "stdout",
          "text": [
            "X'in boyutu: (200,)\n",
            "y'in boyutu: (200,)\n"
          ]
        }
      ]
    },
    {
      "cell_type": "code",
      "source": [
        "# Sklearn LinearRegression class'ının istediği gibi değil\n",
        "# yeniden boyutlandıralım\n",
        "# (200,1) için\n",
        "X = X.values.reshape(-1, 1)"
      ],
      "metadata": {
        "execution": {
          "iopub.status.busy": "2024-06-08T10:33:48.672584Z",
          "iopub.execute_input": "2024-06-08T10:33:48.672995Z",
          "iopub.status.idle": "2024-06-08T10:33:48.678374Z",
          "shell.execute_reply.started": "2024-06-08T10:33:48.672964Z",
          "shell.execute_reply": "2024-06-08T10:33:48.677028Z"
        },
        "trusted": true,
        "id": "mNuL5vM3heLl"
      },
      "execution_count": 14,
      "outputs": []
    },
    {
      "cell_type": "code",
      "source": [
        "#X in yeni boyutu\n",
        "print(\"x'in boyutu:\", X.shape)"
      ],
      "metadata": {
        "execution": {
          "iopub.status.busy": "2024-06-08T10:33:49.54717Z",
          "iopub.execute_input": "2024-06-08T10:33:49.547574Z",
          "iopub.status.idle": "2024-06-08T10:33:49.55322Z",
          "shell.execute_reply.started": "2024-06-08T10:33:49.547545Z",
          "shell.execute_reply": "2024-06-08T10:33:49.552044Z"
        },
        "trusted": true,
        "id": "Blxn4BxAheLl",
        "outputId": "16d5baa4-33fb-48cd-f2cb-4269955d204d",
        "colab": {
          "base_uri": "https://localhost:8080/"
        }
      },
      "execution_count": 15,
      "outputs": [
        {
          "output_type": "stream",
          "name": "stdout",
          "text": [
            "x'in boyutu: (200, 1)\n"
          ]
        }
      ]
    },
    {
      "cell_type": "code",
      "source": [
        "# label (output) degiskenini de yeniden boyutlandıralım\n",
        "y = y.values.reshape(-1,1)"
      ],
      "metadata": {
        "execution": {
          "iopub.status.busy": "2024-06-08T10:33:50.345116Z",
          "iopub.execute_input": "2024-06-08T10:33:50.346337Z",
          "iopub.status.idle": "2024-06-08T10:33:50.351292Z",
          "shell.execute_reply.started": "2024-06-08T10:33:50.346295Z",
          "shell.execute_reply": "2024-06-08T10:33:50.349935Z"
        },
        "trusted": true,
        "id": "fedzrIKPheLl"
      },
      "execution_count": 16,
      "outputs": []
    },
    {
      "cell_type": "code",
      "source": [
        "# y in yeni boyutu\n",
        "print(\"y'in boyutu:\", y.shape)"
      ],
      "metadata": {
        "execution": {
          "iopub.status.busy": "2024-06-08T10:33:53.405553Z",
          "iopub.execute_input": "2024-06-08T10:33:53.405989Z",
          "iopub.status.idle": "2024-06-08T10:33:53.411774Z",
          "shell.execute_reply.started": "2024-06-08T10:33:53.405954Z",
          "shell.execute_reply": "2024-06-08T10:33:53.410571Z"
        },
        "trusted": true,
        "id": "ctkX_IjrheLl",
        "outputId": "73463af1-510c-433c-d144-9a139aa4f3a1",
        "colab": {
          "base_uri": "https://localhost:8080/"
        }
      },
      "execution_count": 17,
      "outputs": [
        {
          "output_type": "stream",
          "name": "stdout",
          "text": [
            "y'in boyutu: (200, 1)\n"
          ]
        }
      ]
    },
    {
      "cell_type": "markdown",
      "source": [
        "<a id =7 ></a>\n",
        "## 7- Train-Test Split"
      ],
      "metadata": {
        "id": "DHghgU6IheLm"
      }
    },
    {
      "cell_type": "markdown",
      "source": [],
      "metadata": {
        "id": "6UpTxhrkheLm"
      }
    },
    {
      "cell_type": "code",
      "source": [
        "#scikit-learn import\n",
        "\n",
        "from sklearn.model_selection import train_test_split"
      ],
      "metadata": {
        "execution": {
          "iopub.status.busy": "2024-06-08T10:36:43.582149Z",
          "iopub.execute_input": "2024-06-08T10:36:43.582548Z",
          "iopub.status.idle": "2024-06-08T10:36:43.588752Z",
          "shell.execute_reply.started": "2024-06-08T10:36:43.582517Z",
          "shell.execute_reply": "2024-06-08T10:36:43.587297Z"
        },
        "trusted": true,
        "id": "qErE07HWheLm"
      },
      "execution_count": 18,
      "outputs": []
    },
    {
      "cell_type": "code",
      "source": [
        "# train data\n",
        "# X_train, y_train\n",
        "# test_data\n",
        "# X_test, y_test\n",
        "\n",
        "X_train, X_test, y_train, y_test = train_test_split(X, y, test_size=0.30, random_state=100)"
      ],
      "metadata": {
        "execution": {
          "iopub.status.busy": "2024-06-08T10:36:44.437596Z",
          "iopub.execute_input": "2024-06-08T10:36:44.437983Z",
          "iopub.status.idle": "2024-06-08T10:36:44.444846Z",
          "shell.execute_reply.started": "2024-06-08T10:36:44.437954Z",
          "shell.execute_reply": "2024-06-08T10:36:44.443389Z"
        },
        "trusted": true,
        "id": "ip9HMBKAheLm"
      },
      "execution_count": 19,
      "outputs": []
    },
    {
      "cell_type": "code",
      "source": [
        "#sekiller\n",
        "print(\"X_train boyutu:\", X_train.shape)\n",
        "print(\"y_train boyutu:\", y_train.shape)\n",
        "\n",
        "print(\"X_test boyutu:\", X_test.shape)\n",
        "print(\"y_test boyutu:\", y_test.shape)\n"
      ],
      "metadata": {
        "execution": {
          "iopub.status.busy": "2024-06-08T10:36:46.211424Z",
          "iopub.execute_input": "2024-06-08T10:36:46.211875Z",
          "iopub.status.idle": "2024-06-08T10:36:46.219261Z",
          "shell.execute_reply.started": "2024-06-08T10:36:46.211838Z",
          "shell.execute_reply": "2024-06-08T10:36:46.217776Z"
        },
        "trusted": true,
        "id": "coeBHGhKheLm",
        "outputId": "685bcfcf-c0a6-44a7-db29-9c4f50222bcf",
        "colab": {
          "base_uri": "https://localhost:8080/"
        }
      },
      "execution_count": 20,
      "outputs": [
        {
          "output_type": "stream",
          "name": "stdout",
          "text": [
            "X_train boyutu: (140, 1)\n",
            "y_train boyutu: (140, 1)\n",
            "X_test boyutu: (60, 1)\n",
            "y_test boyutu: (60, 1)\n"
          ]
        }
      ]
    },
    {
      "cell_type": "code",
      "source": [
        "#X_train tipi\n",
        "type(X_train)"
      ],
      "metadata": {
        "execution": {
          "iopub.status.busy": "2024-06-08T10:36:47.481272Z",
          "iopub.execute_input": "2024-06-08T10:36:47.482397Z",
          "iopub.status.idle": "2024-06-08T10:36:47.49007Z",
          "shell.execute_reply.started": "2024-06-08T10:36:47.482353Z",
          "shell.execute_reply": "2024-06-08T10:36:47.488841Z"
        },
        "trusted": true,
        "id": "M0XpM5ZmheLn",
        "outputId": "928d9a94-a641-45cf-f07a-6a352aae4860",
        "colab": {
          "base_uri": "https://localhost:8080/"
        }
      },
      "execution_count": 21,
      "outputs": [
        {
          "output_type": "execute_result",
          "data": {
            "text/plain": [
              "numpy.ndarray"
            ]
          },
          "metadata": {},
          "execution_count": 21
        }
      ]
    },
    {
      "cell_type": "markdown",
      "source": [
        "<a id =8 ></a>\n",
        "## 8- Run Linear Regression Model (Fit)"
      ],
      "metadata": {
        "id": "hUKwfEZeheLn"
      }
    },
    {
      "cell_type": "code",
      "source": [
        "#regresyonu calistir -> fit\n",
        "#fit -> ogrenme\n",
        "#train data uzerinden\n",
        "\n",
        "lr = LinearRegression()\n",
        "lr.fit(X_train, y_train)"
      ],
      "metadata": {
        "execution": {
          "iopub.status.busy": "2024-06-08T10:37:05.995673Z",
          "iopub.execute_input": "2024-06-08T10:37:05.996391Z",
          "iopub.status.idle": "2024-06-08T10:37:06.026753Z",
          "shell.execute_reply.started": "2024-06-08T10:37:05.996327Z",
          "shell.execute_reply": "2024-06-08T10:37:06.025397Z"
        },
        "trusted": true,
        "id": "n59cdPpPheLn",
        "outputId": "f2a7503c-fb39-4eb4-c8c6-cdff6e654696",
        "colab": {
          "base_uri": "https://localhost:8080/",
          "height": 74
        }
      },
      "execution_count": 22,
      "outputs": [
        {
          "output_type": "execute_result",
          "data": {
            "text/plain": [
              "LinearRegression()"
            ],
            "text/html": [
              "<style>#sk-container-id-1 {color: black;background-color: white;}#sk-container-id-1 pre{padding: 0;}#sk-container-id-1 div.sk-toggleable {background-color: white;}#sk-container-id-1 label.sk-toggleable__label {cursor: pointer;display: block;width: 100%;margin-bottom: 0;padding: 0.3em;box-sizing: border-box;text-align: center;}#sk-container-id-1 label.sk-toggleable__label-arrow:before {content: \"▸\";float: left;margin-right: 0.25em;color: #696969;}#sk-container-id-1 label.sk-toggleable__label-arrow:hover:before {color: black;}#sk-container-id-1 div.sk-estimator:hover label.sk-toggleable__label-arrow:before {color: black;}#sk-container-id-1 div.sk-toggleable__content {max-height: 0;max-width: 0;overflow: hidden;text-align: left;background-color: #f0f8ff;}#sk-container-id-1 div.sk-toggleable__content pre {margin: 0.2em;color: black;border-radius: 0.25em;background-color: #f0f8ff;}#sk-container-id-1 input.sk-toggleable__control:checked~div.sk-toggleable__content {max-height: 200px;max-width: 100%;overflow: auto;}#sk-container-id-1 input.sk-toggleable__control:checked~label.sk-toggleable__label-arrow:before {content: \"▾\";}#sk-container-id-1 div.sk-estimator input.sk-toggleable__control:checked~label.sk-toggleable__label {background-color: #d4ebff;}#sk-container-id-1 div.sk-label input.sk-toggleable__control:checked~label.sk-toggleable__label {background-color: #d4ebff;}#sk-container-id-1 input.sk-hidden--visually {border: 0;clip: rect(1px 1px 1px 1px);clip: rect(1px, 1px, 1px, 1px);height: 1px;margin: -1px;overflow: hidden;padding: 0;position: absolute;width: 1px;}#sk-container-id-1 div.sk-estimator {font-family: monospace;background-color: #f0f8ff;border: 1px dotted black;border-radius: 0.25em;box-sizing: border-box;margin-bottom: 0.5em;}#sk-container-id-1 div.sk-estimator:hover {background-color: #d4ebff;}#sk-container-id-1 div.sk-parallel-item::after {content: \"\";width: 100%;border-bottom: 1px solid gray;flex-grow: 1;}#sk-container-id-1 div.sk-label:hover label.sk-toggleable__label {background-color: #d4ebff;}#sk-container-id-1 div.sk-serial::before {content: \"\";position: absolute;border-left: 1px solid gray;box-sizing: border-box;top: 0;bottom: 0;left: 50%;z-index: 0;}#sk-container-id-1 div.sk-serial {display: flex;flex-direction: column;align-items: center;background-color: white;padding-right: 0.2em;padding-left: 0.2em;position: relative;}#sk-container-id-1 div.sk-item {position: relative;z-index: 1;}#sk-container-id-1 div.sk-parallel {display: flex;align-items: stretch;justify-content: center;background-color: white;position: relative;}#sk-container-id-1 div.sk-item::before, #sk-container-id-1 div.sk-parallel-item::before {content: \"\";position: absolute;border-left: 1px solid gray;box-sizing: border-box;top: 0;bottom: 0;left: 50%;z-index: -1;}#sk-container-id-1 div.sk-parallel-item {display: flex;flex-direction: column;z-index: 1;position: relative;background-color: white;}#sk-container-id-1 div.sk-parallel-item:first-child::after {align-self: flex-end;width: 50%;}#sk-container-id-1 div.sk-parallel-item:last-child::after {align-self: flex-start;width: 50%;}#sk-container-id-1 div.sk-parallel-item:only-child::after {width: 0;}#sk-container-id-1 div.sk-dashed-wrapped {border: 1px dashed gray;margin: 0 0.4em 0.5em 0.4em;box-sizing: border-box;padding-bottom: 0.4em;background-color: white;}#sk-container-id-1 div.sk-label label {font-family: monospace;font-weight: bold;display: inline-block;line-height: 1.2em;}#sk-container-id-1 div.sk-label-container {text-align: center;}#sk-container-id-1 div.sk-container {/* jupyter's `normalize.less` sets `[hidden] { display: none; }` but bootstrap.min.css set `[hidden] { display: none !important; }` so we also need the `!important` here to be able to override the default hidden behavior on the sphinx rendered scikit-learn.org. See: https://github.com/scikit-learn/scikit-learn/issues/21755 */display: inline-block !important;position: relative;}#sk-container-id-1 div.sk-text-repr-fallback {display: none;}</style><div id=\"sk-container-id-1\" class=\"sk-top-container\"><div class=\"sk-text-repr-fallback\"><pre>LinearRegression()</pre><b>In a Jupyter environment, please rerun this cell to show the HTML representation or trust the notebook. <br />On GitHub, the HTML representation is unable to render, please try loading this page with nbviewer.org.</b></div><div class=\"sk-container\" hidden><div class=\"sk-item\"><div class=\"sk-estimator sk-toggleable\"><input class=\"sk-toggleable__control sk-hidden--visually\" id=\"sk-estimator-id-1\" type=\"checkbox\" checked><label for=\"sk-estimator-id-1\" class=\"sk-toggleable__label sk-toggleable__label-arrow\">LinearRegression</label><div class=\"sk-toggleable__content\"><pre>LinearRegression()</pre></div></div></div></div></div>"
            ]
          },
          "metadata": {},
          "execution_count": 22
        }
      ]
    },
    {
      "cell_type": "markdown",
      "source": [
        "<a id =9 ></a>\n",
        "## 9- Calculating Coefficients (intercept_, coef_)"
      ],
      "metadata": {
        "id": "yKrof-jNheLs"
      }
    },
    {
      "cell_type": "markdown",
      "source": [
        "Lineer Regresyonu fit etmenin amacı katsayıları hesaplamaktır.\n",
        "\n",
        "$\\beta_0$ -> intercept\n",
        "\n",
        "$\\beta_1$ -> slope (coefficient)"
      ],
      "metadata": {
        "id": "bSIsqunbheLs"
      }
    },
    {
      "cell_type": "code",
      "source": [
        "# intercept -> beta 0\n",
        "print('intercept:', lr.intercept_)"
      ],
      "metadata": {
        "execution": {
          "iopub.status.busy": "2024-06-08T10:43:37.111944Z",
          "iopub.execute_input": "2024-06-08T10:43:37.112392Z",
          "iopub.status.idle": "2024-06-08T10:43:37.119064Z",
          "shell.execute_reply.started": "2024-06-08T10:43:37.112345Z",
          "shell.execute_reply": "2024-06-08T10:43:37.117775Z"
        },
        "trusted": true,
        "id": "bE8uyrzvheLs",
        "outputId": "99ccd130-a0d0-4a84-ab85-d49289b31fa6",
        "colab": {
          "base_uri": "https://localhost:8080/"
        }
      },
      "execution_count": 23,
      "outputs": [
        {
          "output_type": "stream",
          "name": "stdout",
          "text": [
            "intercept: [6.98966586]\n"
          ]
        }
      ]
    },
    {
      "cell_type": "code",
      "source": [
        "# slope = coefficient -> beta 1\n",
        "print('slope (coefficient) egim::', lr.coef_)"
      ],
      "metadata": {
        "execution": {
          "iopub.status.busy": "2024-06-08T10:45:01.667832Z",
          "iopub.execute_input": "2024-06-08T10:45:01.668252Z",
          "iopub.status.idle": "2024-06-08T10:45:01.674685Z",
          "shell.execute_reply.started": "2024-06-08T10:45:01.668216Z",
          "shell.execute_reply": "2024-06-08T10:45:01.673333Z"
        },
        "trusted": true,
        "id": "15rd-Q1cheLs",
        "outputId": "663190f5-95f6-4cd3-d767-23e937f4a8ff",
        "colab": {
          "base_uri": "https://localhost:8080/"
        }
      },
      "execution_count": 24,
      "outputs": [
        {
          "output_type": "stream",
          "name": "stdout",
          "text": [
            "slope (coefficient) egim:: [[0.04649736]]\n"
          ]
        }
      ]
    },
    {
      "cell_type": "markdown",
      "source": [
        "$$ y = 6.989 + 0.0464 X $$"
      ],
      "metadata": {
        "id": "36rCYbXsheLs"
      }
    },
    {
      "cell_type": "markdown",
      "source": [
        "<a id =10 ></a>\n",
        "## 10- Make a Predict"
      ],
      "metadata": {
        "id": "o3InwrlDheLs"
      }
    },
    {
      "cell_type": "markdown",
      "source": [],
      "metadata": {
        "id": "BTVK-ryFheLs"
      }
    },
    {
      "cell_type": "code",
      "source": [
        "\n",
        "\n",
        "y_pred = lr.predict(X_test)"
      ],
      "metadata": {
        "execution": {
          "iopub.status.busy": "2024-06-08T10:49:11.741176Z",
          "iopub.execute_input": "2024-06-08T10:49:11.741608Z",
          "iopub.status.idle": "2024-06-08T10:49:11.747818Z",
          "shell.execute_reply.started": "2024-06-08T10:49:11.741571Z",
          "shell.execute_reply": "2024-06-08T10:49:11.746355Z"
        },
        "trusted": true,
        "id": "VA5pN61PheLs"
      },
      "execution_count": 25,
      "outputs": []
    },
    {
      "cell_type": "code",
      "source": [
        "\n",
        "y_pred"
      ],
      "metadata": {
        "execution": {
          "iopub.status.busy": "2024-06-08T10:49:28.421569Z",
          "iopub.execute_input": "2024-06-08T10:49:28.421978Z",
          "iopub.status.idle": "2024-06-08T10:49:28.430324Z",
          "shell.execute_reply.started": "2024-06-08T10:49:28.421944Z",
          "shell.execute_reply": "2024-06-08T10:49:28.429024Z"
        },
        "trusted": true,
        "id": "NdBw6fEFheLs",
        "outputId": "ed16bf84-177e-4569-d3ca-cbc495068150",
        "colab": {
          "base_uri": "https://localhost:8080/"
        }
      },
      "execution_count": 26,
      "outputs": [
        {
          "output_type": "execute_result",
          "data": {
            "text/plain": [
              "array([[ 7.35234526],\n",
              "       [18.06533671],\n",
              "       [13.27610876],\n",
              "       [17.11214086],\n",
              "       [18.22807747],\n",
              "       [16.60531965],\n",
              "       [13.4620982 ],\n",
              "       [16.17754395],\n",
              "       [17.05169429],\n",
              "       [17.07029323],\n",
              "       [12.4391563 ],\n",
              "       [17.66080969],\n",
              "       [ 9.60281742],\n",
              "       [15.72186983],\n",
              "       [11.04423554],\n",
              "       [11.36971705],\n",
              "       [13.95032046],\n",
              "       [14.90351632],\n",
              "       [14.59198401],\n",
              "       [12.23921766],\n",
              "       [16.97264878],\n",
              "       [13.00642408],\n",
              "       [16.07524976],\n",
              "       [15.21969836],\n",
              "       [15.58702749],\n",
              "       [17.23303399],\n",
              "       [17.20978531],\n",
              "       [10.49091697],\n",
              "       [15.58702749],\n",
              "       [12.71349072],\n",
              "       [10.1700852 ],\n",
              "       [10.19798361],\n",
              "       [12.61584627],\n",
              "       [15.74976825],\n",
              "       [ 9.31453379],\n",
              "       [12.59259759],\n",
              "       [11.50920913],\n",
              "       [14.81982107],\n",
              "       [17.33067844],\n",
              "       [15.97295557],\n",
              "       [17.00519693],\n",
              "       [15.15925179],\n",
              "       [14.63848137],\n",
              "       [17.14933874],\n",
              "       [12.57864838],\n",
              "       [11.16047894],\n",
              "       [ 7.77547122],\n",
              "       [18.55820871],\n",
              "       [10.27237939],\n",
              "       [ 8.76586496],\n",
              "       [16.405381  ],\n",
              "       [14.95466341],\n",
              "       [10.4816175 ],\n",
              "       [13.08546959],\n",
              "       [16.78665935],\n",
              "       [ 9.05879832],\n",
              "       [ 7.78942043],\n",
              "       [ 8.17999824],\n",
              "       [16.17754395],\n",
              "       [10.9744895 ]])"
            ]
          },
          "metadata": {},
          "execution_count": 26
        }
      ]
    },
    {
      "cell_type": "code",
      "source": [
        "\n",
        "\n",
        "y_pred.shape"
      ],
      "metadata": {
        "execution": {
          "iopub.status.busy": "2024-06-08T10:50:01.406547Z",
          "iopub.execute_input": "2024-06-08T10:50:01.407088Z",
          "iopub.status.idle": "2024-06-08T10:50:01.415709Z",
          "shell.execute_reply.started": "2024-06-08T10:50:01.407046Z",
          "shell.execute_reply": "2024-06-08T10:50:01.414399Z"
        },
        "trusted": true,
        "id": "6L22KTsbheLt",
        "outputId": "9da9de9f-d545-4803-8d9e-d7a0526fc2bd",
        "colab": {
          "base_uri": "https://localhost:8080/"
        }
      },
      "execution_count": 27,
      "outputs": [
        {
          "output_type": "execute_result",
          "data": {
            "text/plain": [
              "(60, 1)"
            ]
          },
          "metadata": {},
          "execution_count": 27
        }
      ]
    },
    {
      "cell_type": "code",
      "source": [
        "\n",
        "\n",
        "y_test.shape"
      ],
      "metadata": {
        "execution": {
          "iopub.status.busy": "2024-06-08T10:50:24.42543Z",
          "iopub.execute_input": "2024-06-08T10:50:24.426372Z",
          "iopub.status.idle": "2024-06-08T10:50:24.433791Z",
          "shell.execute_reply.started": "2024-06-08T10:50:24.426329Z",
          "shell.execute_reply": "2024-06-08T10:50:24.432568Z"
        },
        "trusted": true,
        "id": "xVF_328dheLt",
        "outputId": "67ece175-f6a6-4680-ce2f-1752e17a70fa",
        "colab": {
          "base_uri": "https://localhost:8080/"
        }
      },
      "execution_count": 28,
      "outputs": [
        {
          "output_type": "execute_result",
          "data": {
            "text/plain": [
              "(60, 1)"
            ]
          },
          "metadata": {},
          "execution_count": 28
        }
      ]
    },
    {
      "cell_type": "markdown",
      "source": [
        "<a id =11 ></a>\n",
        "## 11- Make a Predict"
      ],
      "metadata": {
        "id": "tMPr4k_KheLt"
      }
    },
    {
      "cell_type": "markdown",
      "source": [
        "\n"
      ],
      "metadata": {
        "id": "TBJrikd5heLt"
      }
    },
    {
      "cell_type": "code",
      "source": [
        "\n",
        "fix,ax = plt.subplots(figsize = (12,8))\n",
        "ax.scatter(X_test, y_test, label='Grand Truth', color='red')\n",
        "\n",
        "\n",
        "ax.scatter(X_test, y_pred, label='Prediction', color='green')\n",
        "\n",
        "plt.title('SALES - TV - PREDİCTION')\n",
        "plt.xlabel('TV')\n",
        "plt.ylabel('Sales')\n",
        "plt.legend(loc='upper left')\n",
        "plt.show()"
      ],
      "metadata": {
        "execution": {
          "iopub.status.busy": "2024-06-08T10:58:31.883054Z",
          "iopub.execute_input": "2024-06-08T10:58:31.884168Z",
          "iopub.status.idle": "2024-06-08T10:58:32.228576Z",
          "shell.execute_reply.started": "2024-06-08T10:58:31.884102Z",
          "shell.execute_reply": "2024-06-08T10:58:32.22722Z"
        },
        "trusted": true,
        "id": "9kLMrsQLheLt",
        "outputId": "32d8b093-3b88-4923-84a7-55993dcc326e",
        "colab": {
          "base_uri": "https://localhost:8080/",
          "height": 718
        }
      },
      "execution_count": 29,
      "outputs": [
        {
          "output_type": "display_data",
          "data": {
            "text/plain": [
              "<Figure size 1200x800 with 1 Axes>"
            ],
            "image/png": "[encoded data removed]"
          },
          "metadata": {}
        }
      ]
    },
    {
      "cell_type": "code",
      "source": [
        "\n",
        "y_test[0:10]"
      ],
      "metadata": {
        "execution": {
          "iopub.status.busy": "2024-06-08T10:59:29.497322Z",
          "iopub.execute_input": "2024-06-08T10:59:29.497737Z",
          "iopub.status.idle": "2024-06-08T10:59:29.505676Z",
          "shell.execute_reply.started": "2024-06-08T10:59:29.497702Z",
          "shell.execute_reply": "2024-06-08T10:59:29.504375Z"
        },
        "trusted": true,
        "id": "sOdWDkWBheLt",
        "outputId": "576148a1-cc7a-428b-81fb-852a7811bf05",
        "colab": {
          "base_uri": "https://localhost:8080/"
        }
      },
      "execution_count": 30,
      "outputs": [
        {
          "output_type": "execute_result",
          "data": {
            "text/plain": [
              "array([[ 6.6],\n",
              "       [20.7],\n",
              "       [17.2],\n",
              "       [19.4],\n",
              "       [21.8],\n",
              "       [12.2],\n",
              "       [12.2],\n",
              "       [11.7],\n",
              "       [22.6],\n",
              "       [22.3]])"
            ]
          },
          "metadata": {},
          "execution_count": 30
        }
      ]
    },
    {
      "cell_type": "code",
      "source": [
        "\n",
        "y_pred[0:10]"
      ],
      "metadata": {
        "execution": {
          "iopub.status.busy": "2024-06-08T11:00:05.546348Z",
          "iopub.execute_input": "2024-06-08T11:00:05.546823Z",
          "iopub.status.idle": "2024-06-08T11:00:05.558208Z",
          "shell.execute_reply.started": "2024-06-08T11:00:05.546787Z",
          "shell.execute_reply": "2024-06-08T11:00:05.556135Z"
        },
        "trusted": true,
        "id": "AgA45JROheLt",
        "outputId": "8bc9a37f-a8b3-4627-c80d-8e434421ebe3",
        "colab": {
          "base_uri": "https://localhost:8080/"
        }
      },
      "execution_count": 31,
      "outputs": [
        {
          "output_type": "execute_result",
          "data": {
            "text/plain": [
              "array([[ 7.35234526],\n",
              "       [18.06533671],\n",
              "       [13.27610876],\n",
              "       [17.11214086],\n",
              "       [18.22807747],\n",
              "       [16.60531965],\n",
              "       [13.4620982 ],\n",
              "       [16.17754395],\n",
              "       [17.05169429],\n",
              "       [17.07029323]])"
            ]
          },
          "metadata": {},
          "execution_count": 31
        }
      ]
    },
    {
      "cell_type": "code",
      "source": [
        "# Her bir tahmin noktasindaki degisimi gorelim\n",
        "indexler = range(1,61)\n",
        "\n",
        "#Gercek Veri -> Grand Truth\n",
        "fig, ax = plt.subplots(figsize=(12,8))\n",
        "ax.plot(indexler, y_test, label='Grand Truth', color='red', linewidth=2)\n",
        "\n",
        "#Tahmin -> Prediction\n",
        "ax.plot(indexler, y_pred, label='Prediction', color='green', linewidth=2)\n",
        "\n",
        "plt.title('Real- Prediction')\n",
        "plt.xlabel('Data Index')\n",
        "plt.ylabel('Sales')\n",
        "plt.legend(loc='upper left')\n",
        "plt.show()"
      ],
      "metadata": {
        "execution": {
          "iopub.status.busy": "2024-06-08T11:06:14.661326Z",
          "iopub.execute_input": "2024-06-08T11:06:14.661767Z",
          "iopub.status.idle": "2024-06-08T11:06:15.044164Z",
          "shell.execute_reply.started": "2024-06-08T11:06:14.661732Z",
          "shell.execute_reply": "2024-06-08T11:06:15.042906Z"
        },
        "trusted": true,
        "id": "35eu0gokheLt",
        "outputId": "3351db7b-23c5-4c83-e838-f6299de8754c",
        "colab": {
          "base_uri": "https://localhost:8080/",
          "height": 718
        }
      },
      "execution_count": 32,
      "outputs": [
        {
          "output_type": "display_data",
          "data": {
            "text/plain": [
              "<Figure size 1200x800 with 1 Axes>"
            ],
            "image/png": "[encoded data removed]"
          },
          "metadata": {}
        }
      ]
    },
    {
      "cell_type": "markdown",
      "source": [
        "<a id =12 ></a>\n",
        "## 12- Draw Errors ( 𝑦−𝑦̂ )"
      ],
      "metadata": {
        "id": "FsLflO94heLt"
      }
    },
    {
      "cell_type": "markdown",
      "source": [
        "Err : Residual -> ($y - \\hat y$)\n",
        "\n",
        "**y_test - y_pred**"
      ],
      "metadata": {
        "id": "PKrPZpt7heLt"
      }
    },
    {
      "cell_type": "code",
      "source": [
        "import numpy as np"
      ],
      "metadata": {
        "execution": {
          "iopub.status.busy": "2024-06-08T11:09:32.21698Z",
          "iopub.execute_input": "2024-06-08T11:09:32.217454Z",
          "iopub.status.idle": "2024-06-08T11:09:32.223885Z",
          "shell.execute_reply.started": "2024-06-08T11:09:32.217418Z",
          "shell.execute_reply": "2024-06-08T11:09:32.222173Z"
        },
        "trusted": true,
        "id": "2lzyRMczheLu"
      },
      "execution_count": 33,
      "outputs": []
    },
    {
      "cell_type": "code",
      "source": [
        "\n",
        "indexler = range(1,61)\n",
        "\n",
        "fig, ax = plt.subplots(figsize = (12,8))\n",
        "ax.plot(indexler, y_test - y_pred, label='Residuals', color='red', linewidth=2)\n",
        "\n",
        "ax.plot(indexler, np.zeros(60), color='black')\n",
        "\n",
        "plt.title('RESIDULS (HATALAR)')\n",
        "plt.xlabel('Data Index')\n",
        "plt.ylabel('Sales')\n",
        "plt.legend(loc='upper left')\n",
        "plt.show()"
      ],
      "metadata": {
        "execution": {
          "iopub.status.busy": "2024-06-08T11:15:36.97227Z",
          "iopub.execute_input": "2024-06-08T11:15:36.972691Z",
          "iopub.status.idle": "2024-06-08T11:15:37.308827Z",
          "shell.execute_reply.started": "2024-06-08T11:15:36.972659Z",
          "shell.execute_reply": "2024-06-08T11:15:37.30765Z"
        },
        "trusted": true,
        "id": "SQb2GpUNheLu",
        "outputId": "c85d116d-8ed5-4212-db0c-a07b962d2f0e",
        "colab": {
          "base_uri": "https://localhost:8080/",
          "height": 718
        }
      },
      "execution_count": 34,
      "outputs": [
        {
          "output_type": "display_data",
          "data": {
            "text/plain": [
              "<Figure size 1200x800 with 1 Axes>"
            ],
            "image/png": "[encoded data removed]"
          },
          "metadata": {}
        }
      ]
    },
    {
      "cell_type": "markdown",
      "source": [
        "<a id =13 ></a>\n",
        "## 13- Check Model Accuracy (RMSE and  𝑅2)"
      ],
      "metadata": {
        "id": "NTXg9KHSheLu"
      }
    },
    {
      "cell_type": "markdown",
      "source": [
        "**RMSE**: Root Mean Squared Error (MSE'nin karekökü)\n",
        "\n",
        "$R^2$: `coefficient of determination`.\n",
        "\n",
        "https://scikit-learn.org/stable/modules/classes.html#module-sklearn.metrics"
      ],
      "metadata": {
        "id": "k0YqJ7ajheLu"
      }
    },
    {
      "cell_type": "code",
      "source": [
        "from sklearn.metrics import r2_score, mean_squared_error"
      ],
      "metadata": {
        "execution": {
          "iopub.status.busy": "2024-06-08T11:18:26.708293Z",
          "iopub.execute_input": "2024-06-08T11:18:26.708746Z",
          "iopub.status.idle": "2024-06-08T11:18:26.714396Z",
          "shell.execute_reply.started": "2024-06-08T11:18:26.708712Z",
          "shell.execute_reply": "2024-06-08T11:18:26.713204Z"
        },
        "trusted": true,
        "id": "p0xta47gheLu"
      },
      "execution_count": 35,
      "outputs": []
    },
    {
      "cell_type": "code",
      "source": [
        "# R^2 yi hesapla\n",
        "r_2 = r2_score(y_test, y_pred)"
      ],
      "metadata": {
        "execution": {
          "iopub.status.busy": "2024-06-08T11:18:59.603056Z",
          "iopub.execute_input": "2024-06-08T11:18:59.603486Z",
          "iopub.status.idle": "2024-06-08T11:18:59.609723Z",
          "shell.execute_reply.started": "2024-06-08T11:18:59.603454Z",
          "shell.execute_reply": "2024-06-08T11:18:59.608456Z"
        },
        "trusted": true,
        "id": "Y3_x85dwheLu"
      },
      "execution_count": 36,
      "outputs": []
    },
    {
      "cell_type": "code",
      "source": [
        "print('R^2:', r_2)"
      ],
      "metadata": {
        "execution": {
          "iopub.status.busy": "2024-06-08T11:19:42.503592Z",
          "iopub.execute_input": "2024-06-08T11:19:42.504031Z",
          "iopub.status.idle": "2024-06-08T11:19:42.509582Z",
          "shell.execute_reply.started": "2024-06-08T11:19:42.503995Z",
          "shell.execute_reply": "2024-06-08T11:19:42.508448Z"
        },
        "trusted": true,
        "id": "Z18k2E6oheLu",
        "outputId": "daffb4fc-8c1f-46ac-f3ef-2b88f2d33a13",
        "colab": {
          "base_uri": "https://localhost:8080/"
        }
      },
      "execution_count": 37,
      "outputs": [
        {
          "output_type": "stream",
          "name": "stdout",
          "text": [
            "R^2: 0.5942987267783302\n"
          ]
        }
      ]
    },
    {
      "cell_type": "code",
      "source": [
        "# % R^2\n",
        "\n",
        "print('R^2 %:', r_2 * 100)"
      ],
      "metadata": {
        "execution": {
          "iopub.status.busy": "2024-06-08T11:21:01.49364Z",
          "iopub.execute_input": "2024-06-08T11:21:01.494078Z",
          "iopub.status.idle": "2024-06-08T11:21:01.500482Z",
          "shell.execute_reply.started": "2024-06-08T11:21:01.494048Z",
          "shell.execute_reply": "2024-06-08T11:21:01.499158Z"
        },
        "trusted": true,
        "id": "BQbgtymNheLv",
        "outputId": "51d79625-a6de-474a-b416-d5deff856de6",
        "colab": {
          "base_uri": "https://localhost:8080/"
        }
      },
      "execution_count": 38,
      "outputs": [
        {
          "output_type": "stream",
          "name": "stdout",
          "text": [
            "R^2 %: 59.42987267783302\n"
          ]
        }
      ]
    },
    {
      "cell_type": "code",
      "source": [
        "# MSE -> RMSE\n",
        "\n",
        "mse = mean_squared_error(y_test, y_pred)"
      ],
      "metadata": {
        "execution": {
          "iopub.status.busy": "2024-06-08T11:21:51.303265Z",
          "iopub.execute_input": "2024-06-08T11:21:51.303707Z",
          "iopub.status.idle": "2024-06-08T11:21:51.310028Z",
          "shell.execute_reply.started": "2024-06-08T11:21:51.30367Z",
          "shell.execute_reply": "2024-06-08T11:21:51.308554Z"
        },
        "trusted": true,
        "id": "q6FuM9NTheLv"
      },
      "execution_count": 39,
      "outputs": []
    },
    {
      "cell_type": "code",
      "source": [
        "print('MSE:', mse)"
      ],
      "metadata": {
        "execution": {
          "iopub.status.busy": "2024-06-08T11:22:20.486099Z",
          "iopub.execute_input": "2024-06-08T11:22:20.486541Z",
          "iopub.status.idle": "2024-06-08T11:22:20.492462Z",
          "shell.execute_reply.started": "2024-06-08T11:22:20.486507Z",
          "shell.execute_reply": "2024-06-08T11:22:20.491201Z"
        },
        "trusted": true,
        "id": "6o_5QtkaheLv",
        "outputId": "27e26684-2474-4439-fc9b-6730ef0d46f4",
        "colab": {
          "base_uri": "https://localhost:8080/"
        }
      },
      "execution_count": 40,
      "outputs": [
        {
          "output_type": "stream",
          "name": "stdout",
          "text": [
            "MSE: 7.975798532854851\n"
          ]
        }
      ]
    },
    {
      "cell_type": "code",
      "source": [
        "# RMSE\n",
        "import math\n",
        "rmse = math.sqrt(mse)"
      ],
      "metadata": {
        "execution": {
          "iopub.status.busy": "2024-06-08T11:22:56.685187Z",
          "iopub.execute_input": "2024-06-08T11:22:56.685697Z",
          "iopub.status.idle": "2024-06-08T11:22:56.691551Z",
          "shell.execute_reply.started": "2024-06-08T11:22:56.685648Z",
          "shell.execute_reply": "2024-06-08T11:22:56.690329Z"
        },
        "trusted": true,
        "id": "lPYPBzkNheLv"
      },
      "execution_count": 41,
      "outputs": []
    },
    {
      "cell_type": "code",
      "source": [
        "print('RMSE:', rmse)"
      ],
      "metadata": {
        "execution": {
          "iopub.status.busy": "2024-06-08T11:23:27.795206Z",
          "iopub.execute_input": "2024-06-08T11:23:27.79559Z",
          "iopub.status.idle": "2024-06-08T11:23:27.801493Z",
          "shell.execute_reply.started": "2024-06-08T11:23:27.795561Z",
          "shell.execute_reply": "2024-06-08T11:23:27.800026Z"
        },
        "trusted": true,
        "id": "09G5TnyVheLv",
        "outputId": "13df3f77-c297-4d4a-b14d-76822194fa1e",
        "colab": {
          "base_uri": "https://localhost:8080/"
        }
      },
      "execution_count": 42,
      "outputs": [
        {
          "output_type": "stream",
          "name": "stdout",
          "text": [
            "RMSE: 2.8241456288327007\n"
          ]
        }
      ]
    },
    {
      "cell_type": "markdown",
      "source": [
        "<a id =14 ></a>\n",
        "## 14- Comments"
      ],
      "metadata": {
        "id": "Uy2mDDa_heLv"
      }
    },
    {
      "cell_type": "markdown",
      "source": [
        "**$R^2$ = %59.43**\n"
      ],
      "metadata": {
        "id": "jnAHAMV7heLv"
      }
    }
  ]
}